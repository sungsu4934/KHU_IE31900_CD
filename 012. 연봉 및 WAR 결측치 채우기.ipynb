{
 "cells": [
  {
   "cell_type": "code",
   "execution_count": 81,
   "metadata": {},
   "outputs": [],
   "source": [
    "import pandas as pd\n",
    "import numpy as np"
   ]
  },
  {
   "cell_type": "markdown",
   "metadata": {},
   "source": [
    "# 데이터 불러오기"
   ]
  },
  {
   "cell_type": "code",
   "execution_count": 82,
   "metadata": {},
   "outputs": [],
   "source": [
    "hitter = pd.read_csv('선수데이터(전처리완료)/타자.csv')\n",
    "pitcher = pd.read_csv('선수데이터(전처리완료)/투수.csv')\n",
    "minimum_money = pd.read_excel('연봉데이터/연도별_최저연봉.xlsx')"
   ]
  },
  {
   "cell_type": "code",
   "execution_count": 83,
   "metadata": {},
   "outputs": [
    {
     "name": "stdout",
     "output_type": "stream",
     "text": [
      "투수데이터 내 결측치가 존재하는 변수\n",
      "연봉     565\n",
      "WAR     43\n",
      "dtype: int64\n",
      "\n",
      "타자데이터 내 결측치가 존재하는 변수\n",
      "연봉     595\n",
      "WAR     35\n",
      "dtype: int64\n"
     ]
    }
   ],
   "source": [
    "print(f'투수데이터 내 결측치가 존재하는 변수')\n",
    "print(pitcher.isnull().sum()[pitcher.isnull().sum() != 0])\n",
    "print()\n",
    "print(f'타자데이터 내 결측치가 존재하는 변수')\n",
    "print(hitter.isnull().sum()[hitter.isnull().sum() != 0])"
   ]
  },
  {
   "cell_type": "markdown",
   "metadata": {},
   "source": [
    "# 1. 최저연봉을 통한 신인연봉 결측치 채우기\n",
    " - 타자: 566명 중 221명 구제가능\n",
    " - 투수: 596명 중 212명 구제가능"
   ]
  },
  {
   "cell_type": "code",
   "execution_count": 84,
   "metadata": {},
   "outputs": [],
   "source": [
    "# 타자에 적용\n",
    "for idx in hitter.loc[(hitter['데뷔년도'] == hitter['연도']) & hitter['연봉'].isnull()].index:\n",
    "    hitter.loc[idx, '연봉'] = minimum_money.loc[minimum_money['연도'] == hitter.loc[idx, '데뷔년도'], '최저연봉'].values[0]\n",
    "\n",
    "# 투수에 적용\n",
    "for idx in pitcher.loc[(pitcher['데뷔년도'] == pitcher['연도']) & pitcher['연봉'].isnull()].index:\n",
    "    pitcher.loc[idx, '연봉'] = minimum_money.loc[minimum_money['연도'] == pitcher.loc[idx, '데뷔년도'], '최저연봉'].values[0]"
   ]
  },
  {
   "cell_type": "code",
   "execution_count": 85,
   "metadata": {},
   "outputs": [
    {
     "name": "stdout",
     "output_type": "stream",
     "text": [
      "투수데이터 내 결측치가 존재하는 변수\n",
      "연봉     344\n",
      "WAR     43\n",
      "dtype: int64\n",
      "\n",
      "타자데이터 내 결측치가 존재하는 변수\n",
      "연봉     384\n",
      "WAR     35\n",
      "dtype: int64\n"
     ]
    }
   ],
   "source": [
    "print(f'투수데이터 내 결측치가 존재하는 변수')\n",
    "print(pitcher.isnull().sum()[pitcher.isnull().sum() != 0])\n",
    "print()\n",
    "print(f'타자데이터 내 결측치가 존재하는 변수')\n",
    "print(hitter.isnull().sum()[hitter.isnull().sum() != 0])"
   ]
  },
  {
   "cell_type": "markdown",
   "metadata": {},
   "source": [
    "# 2. 수기조사한 데이터로 연봉데이터 결측치 채우기"
   ]
  },
  {
   "cell_type": "code",
   "execution_count": 86,
   "metadata": {},
   "outputs": [
    {
     "name": "stdout",
     "output_type": "stream",
     "text": [
      "타자데이터의 개수: 297\n",
      "투수데이터의 개수: 268\n"
     ]
    }
   ],
   "source": [
    "# 데이터 불러오기\n",
    "hit_null = pd.read_csv('연봉데이터/타자_연봉결측치수기조사필요.csv', encoding='cp949')[['ID','선수명','생년월일','연도','연봉']]\n",
    "pit_null = pd.read_csv('연봉데이터/투수_연봉결측치수기조사필요.csv', encoding='cp949')[['ID','선수명','생년월일','연도','연봉']]\n",
    "\n",
    "# 결측치 전처리\n",
    "pit_null.loc[pit_null['연봉'].isin(['기록없음','?']), '연봉'] = np.NaN\n",
    "hit_null.loc[hit_null['연봉'].isin(['기록없음','?']), '연봉'] = np.NaN\n",
    "\n",
    "# 결측행은 제거\n",
    "hit_null = hit_null.dropna().drop_duplicates().reset_index(drop=True)\n",
    "pit_null = pit_null.dropna().drop_duplicates().reset_index(drop=True)\n",
    "\n",
    "print(f'타자데이터의 개수: {hit_null.shape[0]}')\n",
    "print(f'투수데이터의 개수: {pit_null.shape[0]}')"
   ]
  },
  {
   "cell_type": "code",
   "execution_count": 87,
   "metadata": {},
   "outputs": [
    {
     "name": "stdout",
     "output_type": "stream",
     "text": [
      "투수데이터 내 결측치가 존재하는 변수\n",
      "연봉     76\n",
      "WAR    43\n",
      "dtype: int64\n",
      "\n",
      "타자데이터 내 결측치가 존재하는 변수\n",
      "연봉     87\n",
      "WAR    35\n",
      "dtype: int64\n"
     ]
    }
   ],
   "source": [
    "# 타자대체\n",
    "for ID, YEAR, MONEY in zip(hitter['ID'], hitter['연도'], hitter['연봉']):\n",
    "    if pd.isnull(MONEY):\n",
    "        new_money = hit_null.loc[(hit_null['ID'] == ID) & (hit_null['연도'] == YEAR), '연봉']\n",
    "        if new_money.shape[0] == 0:\n",
    "            pass\n",
    "        else:\n",
    "            hitter.loc[(hitter['ID'] == ID) & (hitter['연도'] == YEAR), '연봉'] = int(new_money)\n",
    "\n",
    "# 투수대체\n",
    "for ID, YEAR, MONEY in zip(pitcher['ID'], pitcher['연도'], pitcher['연봉']):\n",
    "    if pd.isnull(MONEY):\n",
    "        new_money = pit_null.loc[(pit_null['ID'] == ID) & (pit_null['연도'] == YEAR), '연봉']\n",
    "        if new_money.shape[0] == 0:\n",
    "            pass\n",
    "        else:\n",
    "            pitcher.loc[(pitcher['ID'] == ID) & (pitcher['연도'] == YEAR), '연봉'] = int(new_money)\n",
    "        \n",
    "print(f'투수데이터 내 결측치가 존재하는 변수')\n",
    "print(pitcher.isnull().sum()[pitcher.isnull().sum() != 0])\n",
    "print()\n",
    "print(f'타자데이터 내 결측치가 존재하는 변수')\n",
    "print(hitter.isnull().sum()[hitter.isnull().sum() != 0])"
   ]
  },
  {
   "cell_type": "markdown",
   "metadata": {},
   "source": [
    "# 3. 수기조사한 데이터로 WAR 결측치 채우기"
   ]
  },
  {
   "cell_type": "code",
   "execution_count": 88,
   "metadata": {},
   "outputs": [
    {
     "name": "stdout",
     "output_type": "stream",
     "text": [
      "타자데이터의 개수: 32\n",
      "투수데이터의 개수: 43\n"
     ]
    }
   ],
   "source": [
    "# 데이터 불러오기\n",
    "hit_null = pd.read_csv('WAR결측치수기조사데이터/WAR결측치(타자)_수기조사필요.csv', encoding='cp949')[['ID','연도','WAR']]\n",
    "pit_null = pd.read_csv('WAR결측치수기조사데이터/WAR결측치(투수)_수기조사필요.csv', encoding='cp949')[['ID','연도','WAR']]\n",
    "\n",
    "# 결측행은 제거\n",
    "hit_null = hit_null.dropna().drop_duplicates().reset_index(drop=True)\n",
    "pit_null = pit_null.dropna().drop_duplicates().reset_index(drop=True)\n",
    "\n",
    "print(f'타자데이터의 개수: {hit_null.shape[0]}')\n",
    "print(f'투수데이터의 개수: {pit_null.shape[0]}')"
   ]
  },
  {
   "cell_type": "code",
   "execution_count": 89,
   "metadata": {},
   "outputs": [
    {
     "name": "stdout",
     "output_type": "stream",
     "text": [
      "투수데이터 내 결측치가 존재하는 변수\n",
      "연봉    76\n",
      "dtype: int64\n",
      "\n",
      "타자데이터 내 결측치가 존재하는 변수\n",
      "연봉     87\n",
      "WAR     3\n",
      "dtype: int64\n"
     ]
    }
   ],
   "source": [
    "# 타자대체\n",
    "for ID, YEAR, WAR in zip(hitter['ID'], hitter['연도'], hitter['WAR']):\n",
    "    if pd.isnull(WAR):\n",
    "        new_WAR = hit_null.loc[(hit_null['ID'] == ID) & (hit_null['연도'] == YEAR), 'WAR']\n",
    "        if new_WAR.shape[0] == 0:\n",
    "            pass\n",
    "        else:\n",
    "            hitter.loc[(hitter['ID'] == ID) & (hitter['연도'] == YEAR), 'WAR'] = int(new_WAR)\n",
    "\n",
    "# 투수대체\n",
    "for ID, YEAR, WAR in zip(pitcher['ID'], pitcher['연도'], pitcher['WAR']):\n",
    "    if pd.isnull(WAR):\n",
    "        new_WAR = pit_null.loc[(pit_null['ID'] == ID) & (pit_null['연도'] == YEAR), 'WAR']\n",
    "        if new_WAR.shape[0] == 0:\n",
    "            pass\n",
    "        else:\n",
    "            pitcher.loc[(pitcher['ID'] == ID) & (pitcher['연도'] == YEAR), 'WAR'] = int(new_WAR)\n",
    "        \n",
    "print(f'투수데이터 내 결측치가 존재하는 변수')\n",
    "print(pitcher.isnull().sum()[pitcher.isnull().sum() != 0])\n",
    "print()\n",
    "print(f'타자데이터 내 결측치가 존재하는 변수')\n",
    "print(hitter.isnull().sum()[hitter.isnull().sum() != 0])"
   ]
  },
  {
   "cell_type": "code",
   "execution_count": 91,
   "metadata": {},
   "outputs": [],
   "source": [
    "hitter.to_csv('선수데이터(전처리완료)/타자.csv', index=False, encoding='utf-8-sig')\n",
    "pitcher.to_csv('선수데이터(전처리완료)/투수.csv', index=False, encoding='utf-8-sig')"
   ]
  }
 ],
 "metadata": {
  "kernelspec": {
   "display_name": "Python 3",
   "language": "python",
   "name": "python3"
  },
  "language_info": {
   "codemirror_mode": {
    "name": "ipython",
    "version": 3
   },
   "file_extension": ".py",
   "mimetype": "text/x-python",
   "name": "python",
   "nbconvert_exporter": "python",
   "pygments_lexer": "ipython3",
   "version": "3.8.5"
  }
 },
 "nbformat": 4,
 "nbformat_minor": 4
}
