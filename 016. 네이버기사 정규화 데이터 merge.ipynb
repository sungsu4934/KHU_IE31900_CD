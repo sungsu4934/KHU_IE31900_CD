{
 "cells": [
  {
   "cell_type": "code",
   "execution_count": 1,
   "metadata": {},
   "outputs": [],
   "source": [
    "import pandas as pd"
   ]
  },
  {
   "cell_type": "code",
   "execution_count": 14,
   "metadata": {},
   "outputs": [],
   "source": [
    "# 데이터 불러오기\n",
    "hitter = pd.read_csv('선수데이터(전처리완료)/타자.csv')\n",
    "pitcher = pd.read_csv('선수데이터(전처리완료)/투수.csv')"
   ]
  },
  {
   "cell_type": "code",
   "execution_count": 10,
   "metadata": {},
   "outputs": [
    {
     "name": "stdout",
     "output_type": "stream",
     "text": [
      "타자데이터의 개수: 4239\n",
      "투수데이터의 개수: 3557\n"
     ]
    }
   ],
   "source": [
    "# 데이터 불러오기\n",
    "hit_news = pd.read_csv('뉴스데이터/뉴스데이터_타자_정규화+누적.csv', encoding='cp949')[['ID', '연도', 'Min-Max', 'Min-Max 누적']]\n",
    "pit_news = pd.read_csv('뉴스데이터/뉴스데이터_투수_정규화+누적.csv', encoding='cp949')[['ID', '연도', 'Min-Max', 'Min-Max 누적']]\n",
    "\n",
    "hit_news = hit_news.rename(columns={'Min-Max':'뉴스개수(연도별정규화)',\n",
    "                                    'Min-Max 누적':'뉴스개수(누적정규화)'})\n",
    "pit_news = pit_news.rename(columns={'Min-Max':'뉴스개수(연도별정규화)',\n",
    "                                    'Min-Max 누적':'뉴스개수(누적정규화)'})\n",
    "\n",
    "hit_news = hit_news.drop_duplicates().dropna().reset_index(drop=True)\n",
    "pit_news = pit_news.drop_duplicates().dropna().reset_index(drop=True)\n",
    "\n",
    "print(f'타자데이터의 개수: {hit_news.shape[0]}')\n",
    "print(f'투수데이터의 개수: {pit_news.shape[0]}')"
   ]
  },
  {
   "cell_type": "code",
   "execution_count": 15,
   "metadata": {},
   "outputs": [],
   "source": [
    "hitter = pd.merge(hitter, hit_news, on=['ID','연도'], how='left')\n",
    "pitcher = pd.merge(pitcher, pit_news, on=['ID','연도'], how='left')"
   ]
  },
  {
   "cell_type": "code",
   "execution_count": 18,
   "metadata": {},
   "outputs": [],
   "source": [
    "hitter.to_csv('선수데이터(전처리완료)/타자.csv', index=False, encoding='utf-8-sig')\n",
    "pitcher.to_csv('선수데이터(전처리완료)/투수.csv', index=False, encoding='utf-8-sig')"
   ]
  }
 ],
 "metadata": {
  "kernelspec": {
   "display_name": "Python 3",
   "language": "python",
   "name": "python3"
  },
  "language_info": {
   "codemirror_mode": {
    "name": "ipython",
    "version": 3
   },
   "file_extension": ".py",
   "mimetype": "text/x-python",
   "name": "python",
   "nbconvert_exporter": "python",
   "pygments_lexer": "ipython3",
   "version": "3.8.5"
  }
 },
 "nbformat": 4,
 "nbformat_minor": 4
}
