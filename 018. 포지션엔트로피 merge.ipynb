{
 "cells": [
  {
   "cell_type": "code",
   "execution_count": 1,
   "metadata": {},
   "outputs": [],
   "source": [
    "import pandas as pd"
   ]
  },
  {
   "cell_type": "markdown",
   "metadata": {},
   "source": [
    "# 데이터 불러오기"
   ]
  },
  {
   "cell_type": "code",
   "execution_count": 2,
   "metadata": {},
   "outputs": [
    {
     "data": {
      "text/plain": [
       "((4239, 68), (3557, 72))"
      ]
     },
     "execution_count": 2,
     "metadata": {},
     "output_type": "execute_result"
    }
   ],
   "source": [
    "# 데이터 불러오기\n",
    "hitter = pd.read_csv('선수데이터(전처리완료)/타자.csv')\n",
    "pitcher = pd.read_csv('선수데이터(전처리완료)/투수.csv')\n",
    "\n",
    "hitter.shape, pitcher.shape"
   ]
  },
  {
   "cell_type": "code",
   "execution_count": 3,
   "metadata": {},
   "outputs": [
    {
     "data": {
      "text/html": [
       "<div>\n",
       "<style scoped>\n",
       "    .dataframe tbody tr th:only-of-type {\n",
       "        vertical-align: middle;\n",
       "    }\n",
       "\n",
       "    .dataframe tbody tr th {\n",
       "        vertical-align: top;\n",
       "    }\n",
       "\n",
       "    .dataframe thead th {\n",
       "        text-align: right;\n",
       "    }\n",
       "</style>\n",
       "<table border=\"1\" class=\"dataframe\">\n",
       "  <thead>\n",
       "    <tr style=\"text-align: right;\">\n",
       "      <th></th>\n",
       "      <th>ID</th>\n",
       "      <th>연도</th>\n",
       "      <th>포지션 엔트로피</th>\n",
       "    </tr>\n",
       "  </thead>\n",
       "  <tbody>\n",
       "    <tr>\n",
       "      <th>0</th>\n",
       "      <td>70117</td>\n",
       "      <td>2002</td>\n",
       "      <td>0.000000</td>\n",
       "    </tr>\n",
       "    <tr>\n",
       "      <th>1</th>\n",
       "      <td>70121</td>\n",
       "      <td>2002</td>\n",
       "      <td>0.000000</td>\n",
       "    </tr>\n",
       "    <tr>\n",
       "      <th>2</th>\n",
       "      <td>70148</td>\n",
       "      <td>2002</td>\n",
       "      <td>0.000000</td>\n",
       "    </tr>\n",
       "    <tr>\n",
       "      <th>3</th>\n",
       "      <td>70224</td>\n",
       "      <td>2002</td>\n",
       "      <td>0.252556</td>\n",
       "    </tr>\n",
       "    <tr>\n",
       "      <th>4</th>\n",
       "      <td>70317</td>\n",
       "      <td>2002</td>\n",
       "      <td>0.000000</td>\n",
       "    </tr>\n",
       "    <tr>\n",
       "      <th>...</th>\n",
       "      <td>...</td>\n",
       "      <td>...</td>\n",
       "      <td>...</td>\n",
       "    </tr>\n",
       "    <tr>\n",
       "      <th>8146</th>\n",
       "      <td>79705</td>\n",
       "      <td>2020</td>\n",
       "      <td>0.989993</td>\n",
       "    </tr>\n",
       "    <tr>\n",
       "      <th>8147</th>\n",
       "      <td>79764</td>\n",
       "      <td>2020</td>\n",
       "      <td>0.000000</td>\n",
       "    </tr>\n",
       "    <tr>\n",
       "      <th>8148</th>\n",
       "      <td>79825</td>\n",
       "      <td>2020</td>\n",
       "      <td>0.000000</td>\n",
       "    </tr>\n",
       "    <tr>\n",
       "      <th>8149</th>\n",
       "      <td>79847</td>\n",
       "      <td>2020</td>\n",
       "      <td>0.000000</td>\n",
       "    </tr>\n",
       "    <tr>\n",
       "      <th>8150</th>\n",
       "      <td>99445</td>\n",
       "      <td>2020</td>\n",
       "      <td>0.000000</td>\n",
       "    </tr>\n",
       "  </tbody>\n",
       "</table>\n",
       "<p>8151 rows × 3 columns</p>\n",
       "</div>"
      ],
      "text/plain": [
       "         ID    연도  포지션 엔트로피\n",
       "0     70117  2002  0.000000\n",
       "1     70121  2002  0.000000\n",
       "2     70148  2002  0.000000\n",
       "3     70224  2002  0.252556\n",
       "4     70317  2002  0.000000\n",
       "...     ...   ...       ...\n",
       "8146  79705  2020  0.989993\n",
       "8147  79764  2020  0.000000\n",
       "8148  79825  2020  0.000000\n",
       "8149  79847  2020  0.000000\n",
       "8150  99445  2020  0.000000\n",
       "\n",
       "[8151 rows x 3 columns]"
      ]
     },
     "execution_count": 3,
     "metadata": {},
     "output_type": "execute_result"
    }
   ],
   "source": [
    "# 데이터 불러오기\n",
    "pos_entropy = pd.read_csv('포지션엔트로피데이터/포지션엔트로피.csv')[['ID', '연도', '포지션 엔트로피']]\n",
    "pos_entropy = pos_entropy.drop_duplicates().dropna().reset_index(drop=True)\n",
    "pos_entropy"
   ]
  },
  {
   "cell_type": "markdown",
   "metadata": {},
   "source": [
    "# 전체 포지션 엔트로피를 투수와 타자로 구분"
   ]
  },
  {
   "cell_type": "code",
   "execution_count": 4,
   "metadata": {},
   "outputs": [
    {
     "name": "stdout",
     "output_type": "stream",
     "text": [
      "타자의 수비엔트로피데이터 개수: 4218\n",
      "투수의 수비엔트로피데이터 개수: 3491\n"
     ]
    }
   ],
   "source": [
    "hitter_ID = list(hitter['ID'])\n",
    "pitcher_ID = list(pitcher['ID'])\n",
    "\n",
    "hit_entropy = pos_entropy[pos_entropy['ID'].isin(hitter_ID)].reset_index(drop=True)\n",
    "pit_entropy = pos_entropy[pos_entropy['ID'].isin(pitcher_ID)].reset_index(drop=True)\n",
    "\n",
    "print(f'타자의 수비엔트로피데이터 개수: {hit_entropy.shape[0]}')\n",
    "print(f'투수의 수비엔트로피데이터 개수: {pit_entropy.shape[0]}')"
   ]
  },
  {
   "cell_type": "markdown",
   "metadata": {},
   "source": [
    "# Merge"
   ]
  },
  {
   "cell_type": "code",
   "execution_count": 5,
   "metadata": {},
   "outputs": [],
   "source": [
    "hitter = pd.merge(hitter, hit_entropy, on=['ID', '연도'], how='left')\n",
    "pitcher = pd.merge(pitcher, pit_entropy, on=['ID', '연도'], how='left')"
   ]
  },
  {
   "cell_type": "code",
   "execution_count": 7,
   "metadata": {},
   "outputs": [],
   "source": [
    "hitter['포지션 엔트로피'] = hitter['포지션 엔트로피'].fillna(0)\n",
    "pitcher['포지션 엔트로피'] = pitcher['포지션 엔트로피'].fillna(0)"
   ]
  },
  {
   "cell_type": "code",
   "execution_count": 11,
   "metadata": {},
   "outputs": [],
   "source": [
    "hitter.to_csv('선수데이터(전처리완료)/타자.csv', index=False, encoding='utf-8-sig')\n",
    "pitcher.to_csv('선수데이터(전처리완료)/투수.csv', index=False, encoding='utf-8-sig')"
   ]
  }
 ],
 "metadata": {
  "kernelspec": {
   "display_name": "Python 3",
   "language": "python",
   "name": "python3"
  },
  "language_info": {
   "codemirror_mode": {
    "name": "ipython",
    "version": 3
   },
   "file_extension": ".py",
   "mimetype": "text/x-python",
   "name": "python",
   "nbconvert_exporter": "python",
   "pygments_lexer": "ipython3",
   "version": "3.8.5"
  }
 },
 "nbformat": 4,
 "nbformat_minor": 4
}
