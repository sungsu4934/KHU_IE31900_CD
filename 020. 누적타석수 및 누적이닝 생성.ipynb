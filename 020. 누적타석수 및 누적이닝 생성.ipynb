{
 "cells": [
  {
   "cell_type": "code",
   "execution_count": 1,
   "metadata": {},
   "outputs": [],
   "source": [
    "import pandas as pd\n",
    "import numpy as np"
   ]
  },
  {
   "cell_type": "code",
   "execution_count": 2,
   "metadata": {},
   "outputs": [],
   "source": [
    "# 수비이닝 형변환 함수\n",
    "\n",
    "def inning_change(value):\n",
    "    \n",
    "    tmp = value.split(' ')\n",
    "    \n",
    "    if len(tmp) == 2:\n",
    "        if tmp[1] == '1/3':\n",
    "            output = int(tmp[0]) + 1/3\n",
    "        elif tmp[1] == '2/3':\n",
    "            output = int(tmp[0]) + 2/3\n",
    "            \n",
    "    else: \n",
    "        if '1/3' == tmp[0]:\n",
    "            output = 1/3\n",
    "        elif '2/3' == tmp[0]:\n",
    "            output = 2/3\n",
    "        else:\n",
    "            output = int(tmp[0])\n",
    "        \n",
    "    return output"
   ]
  },
  {
   "cell_type": "markdown",
   "metadata": {},
   "source": [
    "# 데이터 불러오기"
   ]
  },
  {
   "cell_type": "code",
   "execution_count": 4,
   "metadata": {},
   "outputs": [
    {
     "data": {
      "text/plain": [
       "(4239, 3557)"
      ]
     },
     "execution_count": 4,
     "metadata": {},
     "output_type": "execute_result"
    }
   ],
   "source": [
    "hitter = pd.read_csv('선수데이터(전처리완료)/타자.csv')\n",
    "pitcher = pd.read_csv('선수데이터(전처리완료)/투수.csv')\n",
    "#pitcher['이닝'] = pitcher['이닝'].apply(lambda x: inning_change(x))\n",
    "\n",
    "hitter.shape[0], pitcher.shape[0]"
   ]
  },
  {
   "cell_type": "code",
   "execution_count": 7,
   "metadata": {},
   "outputs": [],
   "source": [
    "hitter_final = pd.DataFrame()\n",
    "\n",
    "hitter_IDs = list(set(hitter['ID']))\n",
    "for hitter_ID in hitter_IDs:\n",
    "    tmp = hitter[hitter['ID'] == hitter_ID].sort_values(by='연도')\n",
    "    tmp['누적타석'] = tmp['타석'].cumsum()\n",
    "    hitter_final = pd.concat([hitter_final, tmp]).reset_index(drop=True)"
   ]
  },
  {
   "cell_type": "code",
   "execution_count": 8,
   "metadata": {},
   "outputs": [],
   "source": [
    "pitcher_final = pd.DataFrame()\n",
    "\n",
    "pitcher_IDs = list(set(pitcher['ID']))\n",
    "for pitcher_ID in pitcher_IDs:\n",
    "    tmp = pitcher[pitcher['ID'] == pitcher_ID].sort_values(by='연도')\n",
    "    tmp['누적이닝'] = tmp['이닝'].cumsum()\n",
    "    pitcher_final = pd.concat([pitcher_final, tmp]).reset_index(drop=True)"
   ]
  },
  {
   "cell_type": "code",
   "execution_count": 9,
   "metadata": {},
   "outputs": [],
   "source": [
    "hitter_final.to_csv('선수데이터(전처리완료)/타자.csv', index=False, encoding='utf-8-sig')\n",
    "pitcher_final.to_csv('선수데이터(전처리완료)/투수.csv', index=False, encoding='utf-8-sig')"
   ]
  }
 ],
 "metadata": {
  "kernelspec": {
   "display_name": "Python 3",
   "language": "python",
   "name": "python3"
  },
  "language_info": {
   "codemirror_mode": {
    "name": "ipython",
    "version": 3
   },
   "file_extension": ".py",
   "mimetype": "text/x-python",
   "name": "python",
   "nbconvert_exporter": "python",
   "pygments_lexer": "ipython3",
   "version": "3.8.5"
  }
 },
 "nbformat": 4,
 "nbformat_minor": 4
}
