{
 "cells": [
  {
   "cell_type": "markdown",
   "metadata": {},
   "source": [
    "# 개명인수정\n",
    " - 다른이름이지만 고유ID가 동일하면 동일인으로 판단하였고, 가장 최근년도의 이름으로 모두 바꾸어주었다."
   ]
  },
  {
   "cell_type": "code",
   "execution_count": 1,
   "metadata": {},
   "outputs": [],
   "source": [
    "import pandas as pd\n",
    "hitter = pd.read_csv('선수데이터(전처리완료)/타자.csv')\n",
    "pitcher = pd.read_csv('선수데이터(전처리완료)/투수.csv')"
   ]
  },
  {
   "cell_type": "code",
   "execution_count": 2,
   "metadata": {},
   "outputs": [],
   "source": [
    "hitter_list = []\n",
    "\n",
    "for ID in hitter['ID'].unique():\n",
    "    if len(hitter.loc[hitter['ID'] == ID, '선수명'].unique()) >= 2:\n",
    "        hitter_list.append(ID)"
   ]
  },
  {
   "cell_type": "code",
   "execution_count": 3,
   "metadata": {},
   "outputs": [],
   "source": [
    "pitcher_list = []\n",
    "\n",
    "for ID in pitcher['ID'].unique():\n",
    "    if len(pitcher.loc[pitcher['ID'] == ID, '선수명'].unique()) >= 2:\n",
    "        pitcher_list.append(ID)"
   ]
  },
  {
   "cell_type": "code",
   "execution_count": 4,
   "metadata": {},
   "outputs": [],
   "source": [
    "for hitter_id in hitter_list:\n",
    "    tmp = hitter[hitter['ID'] == hitter_id].sort_values(by='연도').reset_index(drop=True)\n",
    "    revise_name = tmp.loc[tmp.shape[0]-1, '선수명']\n",
    "    hitter.loc[hitter['ID'] == hitter_id, '선수명'] = revise_name\n",
    "    \n",
    "for pitcher_id in pitcher_list:\n",
    "    tmp = pitcher[pitcher['ID'] == pitcher_id].sort_values(by='연도').reset_index(drop=True)\n",
    "    revise_name = tmp.loc[tmp.shape[0]-1, '선수명']\n",
    "    pitcher.loc[pitcher['ID'] == pitcher_id, '선수명'] = revise_name"
   ]
  },
  {
   "cell_type": "code",
   "execution_count": 5,
   "metadata": {},
   "outputs": [],
   "source": [
    "hitter.to_csv('선수데이터(전처리완료)/타자.csv', index=False, encoding='utf-8-sig')\n",
    "pitcher.to_csv('선수데이터(전처리완료)/투수.csv', index=False, encoding='utf-8-sig')"
   ]
  }
 ],
 "metadata": {
  "kernelspec": {
   "display_name": "Python 3",
   "language": "python",
   "name": "python3"
  },
  "language_info": {
   "codemirror_mode": {
    "name": "ipython",
    "version": 3
   },
   "file_extension": ".py",
   "mimetype": "text/x-python",
   "name": "python",
   "nbconvert_exporter": "python",
   "pygments_lexer": "ipython3",
   "version": "3.8.5"
  }
 },
 "nbformat": 4,
 "nbformat_minor": 4
}
