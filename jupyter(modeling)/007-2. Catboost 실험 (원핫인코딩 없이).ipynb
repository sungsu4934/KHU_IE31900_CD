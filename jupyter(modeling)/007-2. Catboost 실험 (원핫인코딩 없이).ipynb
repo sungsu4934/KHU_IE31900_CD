{
 "cells": [
  {
   "cell_type": "code",
   "execution_count": null,
   "metadata": {},
   "outputs": [],
   "source": [
    "'''\n",
    "Catboost와 Lightgbm만 실험\n",
    "'''"
   ]
  },
  {
   "cell_type": "markdown",
   "metadata": {},
   "source": [
    "# 패키지 불러오기"
   ]
  },
  {
   "cell_type": "code",
   "execution_count": 1,
   "metadata": {},
   "outputs": [],
   "source": [
    "import math\n",
    "\n",
    "import pandas as pd\n",
    "import numpy as np\n",
    "import lightgbm as lgb\n",
    "import xgboost as xgb\n",
    "\n",
    "from catboost import Pool, CatBoostRegressor\n",
    "from sklearn.model_selection import train_test_split, KFold\n",
    "from sklearn.metrics import mean_squared_error\n",
    "from sklearn.ensemble import RandomForestRegressor\n",
    "from sklearn.neighbors import KNeighborsRegressor\n",
    "from sklearn.linear_model import LinearRegression\n",
    "from sklearn.preprocessing import StandardScaler\n",
    "\n",
    "\n",
    "n_splits = 5"
   ]
  },
  {
   "cell_type": "markdown",
   "metadata": {},
   "source": [
    "# 모델 정의\n",
    " 1. Lightgbm\n",
    " 2. Catboost"
   ]
  },
  {
   "cell_type": "code",
   "execution_count": 2,
   "metadata": {},
   "outputs": [],
   "source": [
    "def Xy_split(dataset):\n",
    "    \n",
    "    X = dataset.drop('연봉', axis=1)\n",
    "    column_dict = {f'variable{idx+1}':col for idx, col in enumerate(X.columns)}\n",
    "    X = X.rename(columns = {col:f'variable{idx+1}' for idx, col in enumerate(X.columns)})\n",
    "    y = dataset['연봉']\n",
    "    \n",
    "    return column_dict, X, y"
   ]
  },
  {
   "cell_type": "code",
   "execution_count": 7,
   "metadata": {},
   "outputs": [],
   "source": [
    "def cb_model(data_x, data_y, cat_cols):\n",
    "\n",
    "    # cb 모델링\n",
    "    performance = []\n",
    "\n",
    "    cv = KFold(n_splits = n_splits, shuffle = True, random_state=42)\n",
    "\n",
    "    for tr_idx, val_idx in cv.split(data_x):  \n",
    "\n",
    "        X_train = data_x.iloc[tr_idx, :]\n",
    "        y_train = data_y[tr_idx]\n",
    "\n",
    "        X_valid = data_x.iloc[val_idx, :]\n",
    "        y_valid = data_y[val_idx]\n",
    "\n",
    "        cb_dtrain = Pool(data=X_train, label=y_train, cat_features=cat_cols)\n",
    "        cb_dvalid = Pool(data=X_valid, label=y_valid, cat_features=cat_cols)\n",
    "\n",
    "        cb_model = CatBoostRegressor(iterations=20000, eval_metric='RMSE', loss_function='RMSE', verbose = 0)\n",
    "\n",
    "        cb_model.fit(cb_dtrain, eval_set=cb_dvalid, early_stopping_rounds=100, verbose_eval=1000, use_best_model=True)\n",
    "        pred_valid = list(map(lambda x: 10 ** x, cb_model.predict(X_valid)))\n",
    "        rmse = mean_squared_error(list(map(lambda x: 10 ** x, y_valid)), pred_valid, squared=False)\n",
    "\n",
    "        performance.append(rmse)\n",
    "        \n",
    "    # cb 성능종합\n",
    "    performance.append(np.mean(performance))\n",
    "\n",
    "    output = pd.DataFrame({'cb':performance}, index=['cv1','cv2','cv3','cv4','cv5','평균'])\n",
    "    return output"
   ]
  },
  {
   "cell_type": "markdown",
   "metadata": {},
   "source": [
    "# train, test분할 후 모델링"
   ]
  },
  {
   "cell_type": "code",
   "execution_count": 5,
   "metadata": {},
   "outputs": [],
   "source": [
    "hitter = pd.read_csv('../선수데이터(전처리완료)/모델링용ver3/타자(모델링용)_train_ver3.csv')\n",
    "pitcher = pd.read_csv('../선수데이터(전처리완료)/모델링용ver3/투수(모델링용)_train_ver3.csv')"
   ]
  },
  {
   "cell_type": "markdown",
   "metadata": {},
   "source": [
    "#### 1. 타자"
   ]
  },
  {
   "cell_type": "code",
   "execution_count": 8,
   "metadata": {},
   "outputs": [],
   "source": [
    "# train, test 분할\n",
    "col_dict, X, y = Xy_split(hitter)\n",
    "\n",
    "X = X.reset_index(drop=True)\n",
    "y = pd.Series(list(map(lambda x: math.log10(x), y)))"
   ]
  },
  {
   "cell_type": "code",
   "execution_count": 10,
   "metadata": {},
   "outputs": [
    {
     "name": "stdout",
     "output_type": "stream",
     "text": [
      "Learning rate set to 0.008427\n",
      "0:\tlearn: 0.4801442\ttest: 0.4948057\tbest: 0.4948057 (0)\ttotal: 152ms\tremaining: 50m 42s\n",
      "1000:\tlearn: 0.1278861\ttest: 0.1601379\tbest: 0.1601379 (1000)\ttotal: 23.5s\tremaining: 7m 26s\n",
      "2000:\tlearn: 0.1027864\ttest: 0.1552702\tbest: 0.1552702 (2000)\ttotal: 46.4s\tremaining: 6m 57s\n",
      "3000:\tlearn: 0.0836364\ttest: 0.1530247\tbest: 0.1530186 (2991)\ttotal: 1m 9s\tremaining: 6m 33s\n",
      "4000:\tlearn: 0.0699607\ttest: 0.1522297\tbest: 0.1522033 (3987)\ttotal: 1m 33s\tremaining: 6m 12s\n",
      "Stopped by overfitting detector  (100 iterations wait)\n",
      "\n",
      "bestTest = 0.1521930788\n",
      "bestIteration = 4071\n",
      "\n",
      "Shrink model to first 4072 iterations.\n",
      "Learning rate set to 0.008427\n",
      "0:\tlearn: 0.4821386\ttest: 0.4871917\tbest: 0.4871917 (0)\ttotal: 19.8ms\tremaining: 6m 36s\n",
      "1000:\tlearn: 0.1307104\ttest: 0.1595375\tbest: 0.1595375 (1000)\ttotal: 23.2s\tremaining: 7m 20s\n",
      "2000:\tlearn: 0.1053635\ttest: 0.1534860\tbest: 0.1534740 (1996)\ttotal: 45.8s\tremaining: 6m 52s\n",
      "3000:\tlearn: 0.0856436\ttest: 0.1502658\tbest: 0.1502658 (3000)\ttotal: 1m 9s\tremaining: 6m 32s\n",
      "4000:\tlearn: 0.0720860\ttest: 0.1488074\tbest: 0.1488074 (4000)\ttotal: 1m 31s\tremaining: 6m 4s\n",
      "Stopped by overfitting detector  (100 iterations wait)\n",
      "\n",
      "bestTest = 0.1482273094\n",
      "bestIteration = 4819\n",
      "\n",
      "Shrink model to first 4820 iterations.\n",
      "Learning rate set to 0.008427\n",
      "0:\tlearn: 0.4886219\ttest: 0.4607286\tbest: 0.4607286 (0)\ttotal: 18.7ms\tremaining: 6m 13s\n",
      "1000:\tlearn: 0.1336776\ttest: 0.1511870\tbest: 0.1511803 (996)\ttotal: 20.4s\tremaining: 6m 26s\n",
      "2000:\tlearn: 0.1077828\ttest: 0.1469540\tbest: 0.1469539 (1999)\ttotal: 41.6s\tremaining: 6m 14s\n",
      "3000:\tlearn: 0.0891489\ttest: 0.1448155\tbest: 0.1448141 (2997)\ttotal: 1m 2s\tremaining: 5m 51s\n",
      "4000:\tlearn: 0.0753766\ttest: 0.1438787\tbest: 0.1438776 (3999)\ttotal: 1m 23s\tremaining: 5m 33s\n",
      "Stopped by overfitting detector  (100 iterations wait)\n",
      "\n",
      "bestTest = 0.1436934825\n",
      "bestIteration = 4327\n",
      "\n",
      "Shrink model to first 4328 iterations.\n",
      "Learning rate set to 0.008428\n",
      "0:\tlearn: 0.4791126\ttest: 0.4997976\tbest: 0.4997976 (0)\ttotal: 18.2ms\tremaining: 6m 3s\n",
      "1000:\tlearn: 0.1326040\ttest: 0.1585212\tbest: 0.1585212 (1000)\ttotal: 21.9s\tremaining: 6m 56s\n",
      "2000:\tlearn: 0.1074549\ttest: 0.1532753\tbest: 0.1532753 (2000)\ttotal: 43.9s\tremaining: 6m 35s\n",
      "Stopped by overfitting detector  (100 iterations wait)\n",
      "\n",
      "bestTest = 0.1516999759\n",
      "bestIteration = 2622\n",
      "\n",
      "Shrink model to first 2623 iterations.\n",
      "Learning rate set to 0.008428\n",
      "0:\tlearn: 0.4855095\ttest: 0.4733891\tbest: 0.4733891 (0)\ttotal: 18.5ms\tremaining: 6m 9s\n",
      "1000:\tlearn: 0.1319618\ttest: 0.1608265\tbest: 0.1608259 (996)\ttotal: 21.1s\tremaining: 6m 40s\n",
      "2000:\tlearn: 0.1047732\ttest: 0.1538611\tbest: 0.1538611 (2000)\ttotal: 42.9s\tremaining: 6m 25s\n",
      "3000:\tlearn: 0.0877915\ttest: 0.1510943\tbest: 0.1510943 (3000)\ttotal: 1m 3s\tremaining: 5m 59s\n",
      "4000:\tlearn: 0.0746849\ttest: 0.1497668\tbest: 0.1497668 (4000)\ttotal: 1m 24s\tremaining: 5m 37s\n",
      "5000:\tlearn: 0.0631694\ttest: 0.1488378\tbest: 0.1488378 (5000)\ttotal: 1m 47s\tremaining: 5m 22s\n",
      "Stopped by overfitting detector  (100 iterations wait)\n",
      "\n",
      "bestTest = 0.1484969149\n",
      "bestIteration = 5555\n",
      "\n",
      "Shrink model to first 5556 iterations.\n"
     ]
    },
    {
     "data": {
      "text/html": [
       "<div>\n",
       "<style scoped>\n",
       "    .dataframe tbody tr th:only-of-type {\n",
       "        vertical-align: middle;\n",
       "    }\n",
       "\n",
       "    .dataframe tbody tr th {\n",
       "        vertical-align: top;\n",
       "    }\n",
       "\n",
       "    .dataframe thead th {\n",
       "        text-align: right;\n",
       "    }\n",
       "</style>\n",
       "<table border=\"1\" class=\"dataframe\">\n",
       "  <thead>\n",
       "    <tr style=\"text-align: right;\">\n",
       "      <th></th>\n",
       "      <th>cb</th>\n",
       "    </tr>\n",
       "  </thead>\n",
       "  <tbody>\n",
       "    <tr>\n",
       "      <th>cv1</th>\n",
       "      <td>19251.891922</td>\n",
       "    </tr>\n",
       "    <tr>\n",
       "      <th>cv2</th>\n",
       "      <td>19842.788693</td>\n",
       "    </tr>\n",
       "    <tr>\n",
       "      <th>cv3</th>\n",
       "      <td>17762.924229</td>\n",
       "    </tr>\n",
       "    <tr>\n",
       "      <th>cv4</th>\n",
       "      <td>19847.017975</td>\n",
       "    </tr>\n",
       "    <tr>\n",
       "      <th>cv5</th>\n",
       "      <td>17019.165469</td>\n",
       "    </tr>\n",
       "    <tr>\n",
       "      <th>평균</th>\n",
       "      <td>18744.757658</td>\n",
       "    </tr>\n",
       "  </tbody>\n",
       "</table>\n",
       "</div>"
      ],
      "text/plain": [
       "               cb\n",
       "cv1  19251.891922\n",
       "cv2  19842.788693\n",
       "cv3  17762.924229\n",
       "cv4  19847.017975\n",
       "cv5  17019.165469\n",
       "평균   18744.757658"
      ]
     },
     "execution_count": 10,
     "metadata": {},
     "output_type": "execute_result"
    }
   ],
   "source": [
    "cb_model(X, y, ['variable2', 'variable43'])"
   ]
  },
  {
   "cell_type": "markdown",
   "metadata": {},
   "source": [
    "#### 2. 투수"
   ]
  },
  {
   "cell_type": "code",
   "execution_count": 11,
   "metadata": {},
   "outputs": [],
   "source": [
    "# train, test 분할\n",
    "col_dict, X, y = Xy_split(pitcher)\n",
    "\n",
    "X = X.reset_index(drop=True)\n",
    "y = pd.Series(list(map(lambda x: math.log10(x), y)))"
   ]
  },
  {
   "cell_type": "code",
   "execution_count": 12,
   "metadata": {},
   "outputs": [
    {
     "name": "stdout",
     "output_type": "stream",
     "text": [
      "Learning rate set to 0.008028\n",
      "0:\tlearn: 0.4237537\ttest: 0.3958130\tbest: 0.3958130 (0)\ttotal: 18.8ms\tremaining: 6m 16s\n",
      "1000:\tlearn: 0.1421816\ttest: 0.1692855\tbest: 0.1692855 (1000)\ttotal: 23.7s\tremaining: 7m 29s\n",
      "2000:\tlearn: 0.1090712\ttest: 0.1631510\tbest: 0.1631510 (2000)\ttotal: 46.7s\tremaining: 7m\n",
      "3000:\tlearn: 0.0861192\ttest: 0.1614128\tbest: 0.1614128 (3000)\ttotal: 1m 10s\tremaining: 6m 39s\n",
      "4000:\tlearn: 0.0701986\ttest: 0.1604173\tbest: 0.1603792 (3984)\ttotal: 1m 35s\tremaining: 6m 22s\n",
      "5000:\tlearn: 0.0583103\ttest: 0.1597314\tbest: 0.1597314 (5000)\ttotal: 1m 59s\tremaining: 5m 57s\n",
      "Stopped by overfitting detector  (100 iterations wait)\n",
      "\n",
      "bestTest = 0.1593663185\n",
      "bestIteration = 5365\n",
      "\n",
      "Shrink model to first 5366 iterations.\n",
      "Learning rate set to 0.008028\n",
      "0:\tlearn: 0.4231758\ttest: 0.3983022\tbest: 0.3983022 (0)\ttotal: 18.9ms\tremaining: 6m 18s\n",
      "1000:\tlearn: 0.1390900\ttest: 0.1809191\tbest: 0.1809191 (1000)\ttotal: 23.3s\tremaining: 7m 22s\n",
      "2000:\tlearn: 0.1041703\ttest: 0.1758323\tbest: 0.1758323 (2000)\ttotal: 46.7s\tremaining: 7m\n",
      "3000:\tlearn: 0.0819469\ttest: 0.1741800\tbest: 0.1741565 (2981)\ttotal: 1m 7s\tremaining: 6m 21s\n",
      "Stopped by overfitting detector  (100 iterations wait)\n",
      "\n",
      "bestTest = 0.1736144836\n",
      "bestIteration = 3620\n",
      "\n",
      "Shrink model to first 3621 iterations.\n",
      "Learning rate set to 0.008028\n",
      "0:\tlearn: 0.4128108\ttest: 0.4401218\tbest: 0.4401218 (0)\ttotal: 23.5ms\tremaining: 7m 49s\n",
      "1000:\tlearn: 0.1395580\ttest: 0.1721777\tbest: 0.1721777 (1000)\ttotal: 23.9s\tremaining: 7m 34s\n",
      "2000:\tlearn: 0.1045201\ttest: 0.1666045\tbest: 0.1665798 (1996)\ttotal: 45.6s\tremaining: 6m 49s\n",
      "Stopped by overfitting detector  (100 iterations wait)\n",
      "\n",
      "bestTest = 0.1662027753\n",
      "bestIteration = 2164\n",
      "\n",
      "Shrink model to first 2165 iterations.\n",
      "Learning rate set to 0.008028\n",
      "0:\tlearn: 0.4180782\ttest: 0.4196611\tbest: 0.4196611 (0)\ttotal: 18.3ms\tremaining: 6m 6s\n",
      "1000:\tlearn: 0.1403722\ttest: 0.1674941\tbest: 0.1674941 (1000)\ttotal: 20.6s\tremaining: 6m 30s\n",
      "2000:\tlearn: 0.1056882\ttest: 0.1621113\tbest: 0.1620946 (1996)\ttotal: 46s\tremaining: 6m 53s\n",
      "3000:\tlearn: 0.0831187\ttest: 0.1598547\tbest: 0.1598547 (3000)\ttotal: 1m 12s\tremaining: 6m 53s\n",
      "Stopped by overfitting detector  (100 iterations wait)\n",
      "\n",
      "bestTest = 0.1596312001\n",
      "bestIteration = 3143\n",
      "\n",
      "Shrink model to first 3144 iterations.\n",
      "Learning rate set to 0.008028\n",
      "0:\tlearn: 0.4136556\ttest: 0.4367473\tbest: 0.4367473 (0)\ttotal: 21.8ms\tremaining: 7m 15s\n",
      "1000:\tlearn: 0.1344049\ttest: 0.1946074\tbest: 0.1946074 (1000)\ttotal: 25.4s\tremaining: 8m 2s\n",
      "2000:\tlearn: 0.1004825\ttest: 0.1873488\tbest: 0.1873488 (2000)\ttotal: 50.9s\tremaining: 7m 37s\n",
      "3000:\tlearn: 0.0790975\ttest: 0.1844845\tbest: 0.1844689 (2972)\ttotal: 1m 15s\tremaining: 7m 6s\n",
      "4000:\tlearn: 0.0633028\ttest: 0.1831741\tbest: 0.1831614 (3979)\ttotal: 1m 36s\tremaining: 6m 25s\n",
      "5000:\tlearn: 0.0517793\ttest: 0.1823544\tbest: 0.1823474 (4984)\ttotal: 1m 57s\tremaining: 5m 51s\n",
      "Stopped by overfitting detector  (100 iterations wait)\n",
      "\n",
      "bestTest = 0.1819381191\n",
      "bestIteration = 5813\n",
      "\n",
      "Shrink model to first 5814 iterations.\n"
     ]
    },
    {
     "data": {
      "text/html": [
       "<div>\n",
       "<style scoped>\n",
       "    .dataframe tbody tr th:only-of-type {\n",
       "        vertical-align: middle;\n",
       "    }\n",
       "\n",
       "    .dataframe tbody tr th {\n",
       "        vertical-align: top;\n",
       "    }\n",
       "\n",
       "    .dataframe thead th {\n",
       "        text-align: right;\n",
       "    }\n",
       "</style>\n",
       "<table border=\"1\" class=\"dataframe\">\n",
       "  <thead>\n",
       "    <tr style=\"text-align: right;\">\n",
       "      <th></th>\n",
       "      <th>cb</th>\n",
       "    </tr>\n",
       "  </thead>\n",
       "  <tbody>\n",
       "    <tr>\n",
       "      <th>cv1</th>\n",
       "      <td>15423.045443</td>\n",
       "    </tr>\n",
       "    <tr>\n",
       "      <th>cv2</th>\n",
       "      <td>13223.095731</td>\n",
       "    </tr>\n",
       "    <tr>\n",
       "      <th>cv3</th>\n",
       "      <td>19822.883367</td>\n",
       "    </tr>\n",
       "    <tr>\n",
       "      <th>cv4</th>\n",
       "      <td>15189.118180</td>\n",
       "    </tr>\n",
       "    <tr>\n",
       "      <th>cv5</th>\n",
       "      <td>19547.780851</td>\n",
       "    </tr>\n",
       "    <tr>\n",
       "      <th>평균</th>\n",
       "      <td>16641.184714</td>\n",
       "    </tr>\n",
       "  </tbody>\n",
       "</table>\n",
       "</div>"
      ],
      "text/plain": [
       "               cb\n",
       "cv1  15423.045443\n",
       "cv2  13223.095731\n",
       "cv3  19822.883367\n",
       "cv4  15189.118180\n",
       "cv5  19547.780851\n",
       "평균   16641.184714"
      ]
     },
     "execution_count": 12,
     "metadata": {},
     "output_type": "execute_result"
    }
   ],
   "source": [
    "cb_model(X, y, ['variable2'])"
   ]
  }
 ],
 "metadata": {
  "kernelspec": {
   "display_name": "Python 3",
   "language": "python",
   "name": "python3"
  },
  "language_info": {
   "codemirror_mode": {
    "name": "ipython",
    "version": 3
   },
   "file_extension": ".py",
   "mimetype": "text/x-python",
   "name": "python",
   "nbconvert_exporter": "python",
   "pygments_lexer": "ipython3",
   "version": "3.8.5"
  }
 },
 "nbformat": 4,
 "nbformat_minor": 4
}
