{
 "cells": [
  {
   "cell_type": "code",
   "execution_count": null,
   "metadata": {},
   "outputs": [],
   "source": [
    "'''\n",
    "Catboost와 Lightgbm만 실험\n",
    "'''"
   ]
  },
  {
   "cell_type": "markdown",
   "metadata": {},
   "source": [
    "# 패키지 불러오기"
   ]
  },
  {
   "cell_type": "code",
   "execution_count": 1,
   "metadata": {},
   "outputs": [],
   "source": [
    "import math\n",
    "\n",
    "import pandas as pd\n",
    "import numpy as np\n",
    "import lightgbm as lgb\n",
    "import xgboost as xgb\n",
    "\n",
    "from catboost import Pool, CatBoostRegressor\n",
    "from sklearn.model_selection import train_test_split, KFold\n",
    "from sklearn.metrics import mean_squared_error\n",
    "from sklearn.ensemble import RandomForestRegressor\n",
    "from sklearn.neighbors import KNeighborsRegressor\n",
    "from sklearn.linear_model import LinearRegression\n",
    "from sklearn.preprocessing import StandardScaler\n",
    "\n",
    "\n",
    "n_splits = 5"
   ]
  },
  {
   "cell_type": "markdown",
   "metadata": {},
   "source": [
    "# 모델 정의\n",
    " 1. Lightgbm\n",
    " 2. Catboost"
   ]
  },
  {
   "cell_type": "code",
   "execution_count": 2,
   "metadata": {},
   "outputs": [],
   "source": [
    "def Xy_split(dataset):\n",
    "    \n",
    "    X = dataset.drop('연봉', axis=1)\n",
    "    column_dict = {f'variable{idx+1}':col for idx, col in enumerate(X.columns)}\n",
    "    X = X.rename(columns = {col:f'variable{idx+1}' for idx, col in enumerate(X.columns)})\n",
    "    y = dataset['연봉']\n",
    "    \n",
    "    return column_dict, X, y"
   ]
  },
  {
   "cell_type": "code",
   "execution_count": 3,
   "metadata": {
    "scrolled": true
   },
   "outputs": [],
   "source": [
    "def lgbm_model(data_x, data_y):\n",
    "\n",
    "    # lgbm 모델링\n",
    "    lgb_params = {\"objective\" : \"rmse\",\n",
    "                 \"verbosity\" : -1}\n",
    "\n",
    "    performance = []\n",
    "\n",
    "    cv = KFold(n_splits = n_splits, shuffle = True, random_state=42)\n",
    "\n",
    "    for tr_idx, val_idx in cv.split(data_x):  \n",
    "\n",
    "        X_train = data_x.iloc[tr_idx, :].values\n",
    "        y_train = data_y[tr_idx].values\n",
    "\n",
    "        X_valid = data_x.iloc[val_idx, :].values\n",
    "        y_valid = data_y[val_idx].values\n",
    "\n",
    "        lgb_dtrain = lgb.Dataset(data = X_train, label = y_train) \n",
    "        lgb_dvalid = lgb.Dataset(data = X_valid, label = y_valid) \n",
    "\n",
    "        lgb_model = lgb.train(lgb_params, lgb_dtrain, 20000, valid_sets=[lgb_dvalid], early_stopping_rounds=100, verbose_eval=1000)\n",
    "        pred_valid = lgb_model.predict(X_valid)\n",
    "        rmse = mean_squared_error(y_valid, pred_valid, squared=False)\n",
    "\n",
    "        performance.append(rmse)\n",
    "\n",
    "    # lgbm 성능종합\n",
    "    performance.append(np.mean(performance))\n",
    "\n",
    "    output = pd.DataFrame({'lgbm':performance}, index=['cv1','cv2','cv3','cv4','cv5','평균'])\n",
    "    return output"
   ]
  },
  {
   "cell_type": "code",
   "execution_count": 4,
   "metadata": {},
   "outputs": [],
   "source": [
    "def cb_model(data_x, data_y):\n",
    "\n",
    "    # cb 모델링\n",
    "    cat_cols = []\n",
    "    performance = []\n",
    "\n",
    "    cv = KFold(n_splits = n_splits, shuffle = True, random_state=42)\n",
    "\n",
    "    for tr_idx, val_idx in cv.split(data_x):  \n",
    "\n",
    "        X_train = data_x.iloc[tr_idx, :]\n",
    "        y_train = data_y[tr_idx]\n",
    "\n",
    "        X_valid = data_x.iloc[val_idx, :]\n",
    "        y_valid = data_y[val_idx]\n",
    "\n",
    "        cb_dtrain = Pool(data=X_train, label=y_train, cat_features=cat_cols)\n",
    "        cb_dvalid = Pool(data=X_valid, label=y_valid, cat_features=cat_cols)\n",
    "\n",
    "        cb_model = CatBoostRegressor(iterations=20000, eval_metric='RMSE', loss_function='RMSE', verbose = 0)\n",
    "\n",
    "        cb_model.fit(cb_dtrain, eval_set=cb_dvalid, early_stopping_rounds=100, verbose_eval=1000, use_best_model=True)\n",
    "        pred_valid = cb_model.predict(X_valid)\n",
    "        rmse = mean_squared_error(y_valid, pred_valid, squared=False)\n",
    "\n",
    "        performance.append(rmse)\n",
    "        \n",
    "    # cb 성능종합\n",
    "    performance.append(np.mean(performance))\n",
    "\n",
    "    output = pd.DataFrame({'cb':performance}, index=['cv1','cv2','cv3','cv4','cv5','평균'])\n",
    "    return output"
   ]
  },
  {
   "cell_type": "markdown",
   "metadata": {},
   "source": [
    "# train, test분할 후 모델링"
   ]
  },
  {
   "cell_type": "code",
   "execution_count": 5,
   "metadata": {},
   "outputs": [],
   "source": [
    "hitter = pd.read_csv('../선수데이터(전처리완료)/모델링용ver3/타자(모델링용_원핫인코딩)_train_ver3.csv')\n",
    "pitcher = pd.read_csv('../선수데이터(전처리완료)/모델링용ver3/투수(모델링용_원핫인코딩)_train_ver3.csv')"
   ]
  },
  {
   "cell_type": "code",
   "execution_count": 6,
   "metadata": {},
   "outputs": [
    {
     "data": {
      "text/plain": [
       "((3033, 88), (2447, 89))"
      ]
     },
     "execution_count": 6,
     "metadata": {},
     "output_type": "execute_result"
    }
   ],
   "source": [
    "hitter_final = pd.DataFrame()\n",
    "\n",
    "for ID in hitter['ID'].unique():\n",
    "    \n",
    "    tmp = hitter.loc[hitter['ID'] == ID].reset_index(drop=True)\n",
    "    tmp['작년연봉'] = tmp['연봉'].shift(-1)\n",
    "    \n",
    "    hitter_final = pd.concat([hitter_final, tmp]).reset_index(drop=True)\n",
    "    \n",
    "hitter_final = hitter_final.dropna().reset_index(drop=True)\n",
    "hitter.shape, hitter_final.shape"
   ]
  },
  {
   "cell_type": "code",
   "execution_count": 7,
   "metadata": {},
   "outputs": [
    {
     "data": {
      "text/plain": [
       "((2345, 83), (1807, 84))"
      ]
     },
     "execution_count": 7,
     "metadata": {},
     "output_type": "execute_result"
    }
   ],
   "source": [
    "pitcher_final = pd.DataFrame()\n",
    "\n",
    "for ID in pitcher['ID'].unique():\n",
    "    \n",
    "    tmp = pitcher.loc[pitcher['ID'] == ID].reset_index(drop=True)\n",
    "    tmp['작년연봉'] = tmp['연봉'].shift(-1)\n",
    "    \n",
    "    pitcher_final = pd.concat([pitcher_final, tmp]).reset_index(drop=True)\n",
    "    \n",
    "pitcher_final = pitcher_final.dropna().reset_index(drop=True)\n",
    "pitcher.shape, pitcher_final.shape"
   ]
  },
  {
   "cell_type": "markdown",
   "metadata": {},
   "source": [
    "#### 1. 타자"
   ]
  },
  {
   "cell_type": "code",
   "execution_count": 8,
   "metadata": {},
   "outputs": [],
   "source": [
    "# train, test 분할\n",
    "hitter_final = hitter_final.drop(['ID', '선수명'], axis=1)\n",
    "col_dict, X, y = Xy_split(hitter_final)"
   ]
  },
  {
   "cell_type": "code",
   "execution_count": 9,
   "metadata": {},
   "outputs": [
    {
     "name": "stdout",
     "output_type": "stream",
     "text": [
      "Training until validation scores don't improve for 100 rounds\n",
      "Early stopping, best iteration is:\n",
      "[31]\tvalid_0's rmse: 16058.5\n",
      "Training until validation scores don't improve for 100 rounds\n",
      "Early stopping, best iteration is:\n",
      "[36]\tvalid_0's rmse: 14363.3\n",
      "Training until validation scores don't improve for 100 rounds\n",
      "Early stopping, best iteration is:\n",
      "[60]\tvalid_0's rmse: 16121.3\n",
      "Training until validation scores don't improve for 100 rounds\n",
      "Early stopping, best iteration is:\n",
      "[32]\tvalid_0's rmse: 15456.8\n",
      "Training until validation scores don't improve for 100 rounds\n",
      "Early stopping, best iteration is:\n",
      "[40]\tvalid_0's rmse: 14694.6\n",
      "Learning rate set to 0.008092\n",
      "0:\tlearn: 37998.4727664\ttest: 37850.2897523\tbest: 37850.2897523 (0)\ttotal: 159ms\tremaining: 52m 49s\n",
      "1000:\tlearn: 8958.4437082\ttest: 15889.9272891\tbest: 15889.9272891 (1000)\ttotal: 9.75s\tremaining: 3m 5s\n",
      "Stopped by overfitting detector  (100 iterations wait)\n",
      "\n",
      "bestTest = 15627.69381\n",
      "bestIteration = 1521\n",
      "\n",
      "Shrink model to first 1522 iterations.\n",
      "Learning rate set to 0.008092\n",
      "0:\tlearn: 39137.6624583\ttest: 32880.4065645\tbest: 32880.4065645 (0)\ttotal: 22.2ms\tremaining: 7m 24s\n",
      "1000:\tlearn: 8721.4229823\ttest: 14183.7310133\tbest: 14179.0815181 (948)\ttotal: 9.9s\tremaining: 3m 7s\n",
      "Stopped by overfitting detector  (100 iterations wait)\n",
      "\n",
      "bestTest = 14163.70703\n",
      "bestIteration = 1074\n",
      "\n",
      "Shrink model to first 1075 iterations.\n",
      "Learning rate set to 0.008093\n",
      "0:\tlearn: 37708.8966876\ttest: 38903.0514786\tbest: 38903.0514786 (0)\ttotal: 8.81ms\tremaining: 2m 56s\n",
      "1000:\tlearn: 8832.1037969\ttest: 17353.4239750\tbest: 17352.2430092 (997)\ttotal: 9.33s\tremaining: 2m 57s\n",
      "Stopped by overfitting detector  (100 iterations wait)\n",
      "\n",
      "bestTest = 17329.31162\n",
      "bestIteration = 1070\n",
      "\n",
      "Shrink model to first 1071 iterations.\n",
      "Learning rate set to 0.008093\n",
      "0:\tlearn: 37714.8845886\ttest: 38883.2623669\tbest: 38883.2623669 (0)\ttotal: 10ms\tremaining: 3m 20s\n",
      "1000:\tlearn: 9037.2660321\ttest: 16053.7562004\tbest: 16047.7931596 (991)\ttotal: 10s\tremaining: 3m 10s\n",
      "Stopped by overfitting detector  (100 iterations wait)\n",
      "\n",
      "bestTest = 15829.77039\n",
      "bestIteration = 1525\n",
      "\n",
      "Shrink model to first 1526 iterations.\n",
      "Learning rate set to 0.008093\n",
      "0:\tlearn: 37214.4575568\ttest: 40868.2071207\tbest: 40868.2071207 (0)\ttotal: 8.45ms\tremaining: 2m 49s\n",
      "Stopped by overfitting detector  (100 iterations wait)\n",
      "\n",
      "bestTest = 16091.55413\n",
      "bestIteration = 898\n",
      "\n",
      "Shrink model to first 899 iterations.\n"
     ]
    },
    {
     "data": {
      "text/html": [
       "<div>\n",
       "<style scoped>\n",
       "    .dataframe tbody tr th:only-of-type {\n",
       "        vertical-align: middle;\n",
       "    }\n",
       "\n",
       "    .dataframe tbody tr th {\n",
       "        vertical-align: top;\n",
       "    }\n",
       "\n",
       "    .dataframe thead th {\n",
       "        text-align: right;\n",
       "    }\n",
       "</style>\n",
       "<table border=\"1\" class=\"dataframe\">\n",
       "  <thead>\n",
       "    <tr style=\"text-align: right;\">\n",
       "      <th></th>\n",
       "      <th>lgbm</th>\n",
       "      <th>cb</th>\n",
       "    </tr>\n",
       "  </thead>\n",
       "  <tbody>\n",
       "    <tr>\n",
       "      <th>cv1</th>\n",
       "      <td>16058.5</td>\n",
       "      <td>15627.7</td>\n",
       "    </tr>\n",
       "    <tr>\n",
       "      <th>cv2</th>\n",
       "      <td>14363.3</td>\n",
       "      <td>14163.7</td>\n",
       "    </tr>\n",
       "    <tr>\n",
       "      <th>cv3</th>\n",
       "      <td>16121.3</td>\n",
       "      <td>17329.3</td>\n",
       "    </tr>\n",
       "    <tr>\n",
       "      <th>cv4</th>\n",
       "      <td>15456.8</td>\n",
       "      <td>15829.8</td>\n",
       "    </tr>\n",
       "    <tr>\n",
       "      <th>cv5</th>\n",
       "      <td>14694.6</td>\n",
       "      <td>16091.6</td>\n",
       "    </tr>\n",
       "    <tr>\n",
       "      <th>평균</th>\n",
       "      <td>15338.9</td>\n",
       "      <td>15808.4</td>\n",
       "    </tr>\n",
       "  </tbody>\n",
       "</table>\n",
       "</div>"
      ],
      "text/plain": [
       "        lgbm       cb\n",
       "cv1  16058.5  15627.7\n",
       "cv2  14363.3  14163.7\n",
       "cv3  16121.3  17329.3\n",
       "cv4  15456.8  15829.8\n",
       "cv5  14694.6  16091.6\n",
       "평균   15338.9  15808.4"
      ]
     },
     "execution_count": 9,
     "metadata": {},
     "output_type": "execute_result"
    }
   ],
   "source": [
    "# 타자데이터 도출\n",
    "hitter_performance = pd.concat([round(lgbm_model(X, y), 1),\n",
    "                                 round(cb_model(X, y), 1)], axis=1)\n",
    "\n",
    "hitter_performance"
   ]
  },
  {
   "cell_type": "markdown",
   "metadata": {},
   "source": [
    "#### 2. 투수"
   ]
  },
  {
   "cell_type": "code",
   "execution_count": 10,
   "metadata": {},
   "outputs": [],
   "source": [
    "# train, test 분할\n",
    "pitcher_final = pitcher_final.drop(['ID', '선수명'], axis=1)\n",
    "col_dict, X, y = Xy_split(pitcher_final)"
   ]
  },
  {
   "cell_type": "code",
   "execution_count": 11,
   "metadata": {},
   "outputs": [
    {
     "name": "stdout",
     "output_type": "stream",
     "text": [
      "Training until validation scores don't improve for 100 rounds\n",
      "Early stopping, best iteration is:\n",
      "[9]\tvalid_0's rmse: 13133.4\n",
      "Training until validation scores don't improve for 100 rounds\n",
      "Early stopping, best iteration is:\n",
      "[17]\tvalid_0's rmse: 12554.7\n",
      "Training until validation scores don't improve for 100 rounds\n",
      "Early stopping, best iteration is:\n",
      "[132]\tvalid_0's rmse: 14901.3\n",
      "Training until validation scores don't improve for 100 rounds\n",
      "Early stopping, best iteration is:\n",
      "[144]\tvalid_0's rmse: 14606.9\n",
      "Training until validation scores don't improve for 100 rounds\n",
      "Early stopping, best iteration is:\n",
      "[251]\tvalid_0's rmse: 15552.2\n",
      "Learning rate set to 0.007641\n",
      "0:\tlearn: 31552.8181701\ttest: 20230.8839887\tbest: 20230.8839887 (0)\ttotal: 10.2ms\tremaining: 3m 23s\n",
      "Stopped by overfitting detector  (100 iterations wait)\n",
      "\n",
      "bestTest = 10737.80161\n",
      "bestIteration = 460\n",
      "\n",
      "Shrink model to first 461 iterations.\n",
      "Learning rate set to 0.007641\n",
      "0:\tlearn: 30576.9446907\ttest: 25590.0383379\tbest: 25590.0383379 (0)\ttotal: 7.77ms\tremaining: 2m 35s\n",
      "Stopped by overfitting detector  (100 iterations wait)\n",
      "\n",
      "bestTest = 12356.05071\n",
      "bestIteration = 475\n",
      "\n",
      "Shrink model to first 476 iterations.\n",
      "Learning rate set to 0.007642\n",
      "0:\tlearn: 28839.5278340\ttest: 32674.3804627\tbest: 32674.3804627 (0)\ttotal: 7.08ms\tremaining: 2m 21s\n",
      "1000:\tlearn: 6218.5935619\ttest: 15945.7995572\tbest: 15939.3790634 (993)\ttotal: 8.52s\tremaining: 2m 41s\n",
      "Stopped by overfitting detector  (100 iterations wait)\n",
      "\n",
      "bestTest = 15922.28996\n",
      "bestIteration = 1049\n",
      "\n",
      "Shrink model to first 1050 iterations.\n",
      "Learning rate set to 0.007642\n",
      "0:\tlearn: 28961.3181081\ttest: 32196.0635192\tbest: 32196.0635192 (0)\ttotal: 8.52ms\tremaining: 2m 50s\n",
      "1000:\tlearn: 6564.5469718\ttest: 15300.5083251\tbest: 15300.2585628 (998)\ttotal: 8.42s\tremaining: 2m 39s\n",
      "Stopped by overfitting detector  (100 iterations wait)\n",
      "\n",
      "bestTest = 15046.32557\n",
      "bestIteration = 1658\n",
      "\n",
      "Shrink model to first 1659 iterations.\n",
      "Learning rate set to 0.007642\n",
      "0:\tlearn: 28064.0638456\ttest: 35187.8521540\tbest: 35187.8521540 (0)\ttotal: 10.2ms\tremaining: 3m 24s\n",
      "1000:\tlearn: 6622.0321672\ttest: 16031.2894258\tbest: 16031.2894258 (1000)\ttotal: 8.4s\tremaining: 2m 39s\n",
      "Stopped by overfitting detector  (100 iterations wait)\n",
      "\n",
      "bestTest = 15927.44463\n",
      "bestIteration = 1277\n",
      "\n",
      "Shrink model to first 1278 iterations.\n"
     ]
    },
    {
     "data": {
      "text/html": [
       "<div>\n",
       "<style scoped>\n",
       "    .dataframe tbody tr th:only-of-type {\n",
       "        vertical-align: middle;\n",
       "    }\n",
       "\n",
       "    .dataframe tbody tr th {\n",
       "        vertical-align: top;\n",
       "    }\n",
       "\n",
       "    .dataframe thead th {\n",
       "        text-align: right;\n",
       "    }\n",
       "</style>\n",
       "<table border=\"1\" class=\"dataframe\">\n",
       "  <thead>\n",
       "    <tr style=\"text-align: right;\">\n",
       "      <th></th>\n",
       "      <th>lgbm</th>\n",
       "      <th>cb</th>\n",
       "    </tr>\n",
       "  </thead>\n",
       "  <tbody>\n",
       "    <tr>\n",
       "      <th>cv1</th>\n",
       "      <td>13133.4</td>\n",
       "      <td>10737.8</td>\n",
       "    </tr>\n",
       "    <tr>\n",
       "      <th>cv2</th>\n",
       "      <td>12554.7</td>\n",
       "      <td>12356.1</td>\n",
       "    </tr>\n",
       "    <tr>\n",
       "      <th>cv3</th>\n",
       "      <td>14901.3</td>\n",
       "      <td>15922.3</td>\n",
       "    </tr>\n",
       "    <tr>\n",
       "      <th>cv4</th>\n",
       "      <td>14606.9</td>\n",
       "      <td>15046.3</td>\n",
       "    </tr>\n",
       "    <tr>\n",
       "      <th>cv5</th>\n",
       "      <td>15552.2</td>\n",
       "      <td>15927.4</td>\n",
       "    </tr>\n",
       "    <tr>\n",
       "      <th>평균</th>\n",
       "      <td>14149.7</td>\n",
       "      <td>13998.0</td>\n",
       "    </tr>\n",
       "  </tbody>\n",
       "</table>\n",
       "</div>"
      ],
      "text/plain": [
       "        lgbm       cb\n",
       "cv1  13133.4  10737.8\n",
       "cv2  12554.7  12356.1\n",
       "cv3  14901.3  15922.3\n",
       "cv4  14606.9  15046.3\n",
       "cv5  15552.2  15927.4\n",
       "평균   14149.7  13998.0"
      ]
     },
     "execution_count": 11,
     "metadata": {},
     "output_type": "execute_result"
    }
   ],
   "source": [
    "# 투수데이터 도출\n",
    "pitcher_performance = pd.concat([round(lgbm_model(X, y), 1),\n",
    "                                 round(cb_model(X, y), 1)], axis=1)\n",
    "\n",
    "pitcher_performance"
   ]
  },
  {
   "cell_type": "code",
   "execution_count": null,
   "metadata": {},
   "outputs": [],
   "source": []
  }
 ],
 "metadata": {
  "kernelspec": {
   "display_name": "Python 3",
   "language": "python",
   "name": "python3"
  },
  "language_info": {
   "codemirror_mode": {
    "name": "ipython",
    "version": 3
   },
   "file_extension": ".py",
   "mimetype": "text/x-python",
   "name": "python",
   "nbconvert_exporter": "python",
   "pygments_lexer": "ipython3",
   "version": "3.8.5"
  }
 },
 "nbformat": 4,
 "nbformat_minor": 4
}
