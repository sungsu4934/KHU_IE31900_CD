{
 "cells": [
  {
   "cell_type": "markdown",
   "metadata": {},
   "source": [
    "# 패키지 불러오기"
   ]
  },
  {
   "cell_type": "code",
   "execution_count": 1,
   "metadata": {},
   "outputs": [],
   "source": [
    "'''\n",
    "FA선수는 VER4에서 가져와서 사용\n",
    "비FA선수는 VER3에서 가져와서 사용\n",
    "VER5 = VER3에서 FA가 아닌 선수들 + VER4\n",
    "\n",
    "==================================================================\n",
    "VER4에서 변경된 특징\n",
    "1. 종속변수 할당 지정\n",
    "2. 물가지수 반영(CPI)\n",
    "3. 1차FA기간, 2차FA기간, 3차FA기간 등 변수생성\n",
    "4. FA여부, 1차FA기간, 2차FA기간, 3차FA기간에 대해서 1칸씩 SHIFT\n",
    "==================================================================\n",
    "'''\n",
    "\n",
    "import pandas as pd\n",
    "import numpy as np"
   ]
  },
  {
   "cell_type": "markdown",
   "metadata": {},
   "source": [
    "# VER3와 VER4 데이터 불러온 후 merge\n",
    " - 어차피 train data만 모델링 및 validation에 쓰이기에 이들만 가져온다.\n",
    " - 차이나는 변수 파악"
   ]
  },
  {
   "cell_type": "code",
   "execution_count": 2,
   "metadata": {},
   "outputs": [
    {
     "name": "stdout",
     "output_type": "stream",
     "text": [
      "(3033, 88) (270, 88) (3033, 70) (270, 70)\n",
      "(2345, 83) (258, 83) (2345, 73) (258, 73)\n"
     ]
    }
   ],
   "source": [
    "# VER3데이터 불러오기\n",
    "hitter_ver3_onehot_train = pd.read_csv('선수데이터(전처리완료)/모델링용ver3/타자(모델링용_원핫인코딩)_train_ver3.csv')\n",
    "hitter_ver3_onehot_test = pd.read_csv('선수데이터(전처리완료)/모델링용ver3/타자(모델링용_원핫인코딩)_test_ver3.csv')\n",
    "hitter_ver3_train = pd.read_csv('선수데이터(전처리완료)/모델링용ver3/타자(모델링용)_train_ver3.csv')\n",
    "hitter_ver3_test = pd.read_csv('선수데이터(전처리완료)/모델링용ver3/타자(모델링용)_test_ver3.csv')\n",
    "\n",
    "pitcher_ver3_onehot_train = pd.read_csv('선수데이터(전처리완료)/모델링용ver3/투수(모델링용_원핫인코딩)_train_ver3.csv')\n",
    "pitcher_ver3_onehot_test = pd.read_csv('선수데이터(전처리완료)/모델링용ver3/투수(모델링용_원핫인코딩)_test_ver3.csv')\n",
    "pitcher_ver3_train = pd.read_csv('선수데이터(전처리완료)/모델링용ver3/투수(모델링용)_train_ver3.csv')\n",
    "pitcher_ver3_test = pd.read_csv('선수데이터(전처리완료)/모델링용ver3/투수(모델링용)_test_ver3.csv')\n",
    "\n",
    "print(hitter_ver3_onehot_train.shape, hitter_ver3_onehot_test.shape, hitter_ver3_train.shape, hitter_ver3_test.shape)\n",
    "print(pitcher_ver3_onehot_train.shape, pitcher_ver3_onehot_test.shape, pitcher_ver3_train.shape, pitcher_ver3_test.shape)"
   ]
  },
  {
   "cell_type": "code",
   "execution_count": 3,
   "metadata": {},
   "outputs": [
    {
     "name": "stdout",
     "output_type": "stream",
     "text": [
      "(1220, 91) (41, 91) (1220, 73) (41, 73)\n",
      "(644, 85) (19, 85) (644, 75) (19, 75)\n"
     ]
    }
   ],
   "source": [
    "# VER4데이터 불러오기\n",
    "hitter_ver4_onehot_train = pd.read_csv('선수데이터(전처리완료)/모델링용ver4/타자(모델링용_원핫인코딩)_train_ver4.csv')\n",
    "hitter_ver4_onehot_test = pd.read_csv('선수데이터(전처리완료)/모델링용ver4/타자(모델링용_원핫인코딩)_test_ver4.csv')\n",
    "hitter_ver4_train = pd.read_csv('선수데이터(전처리완료)/모델링용ver4/타자(모델링용)_train_ver4.csv')\n",
    "hitter_ver4_test = pd.read_csv('선수데이터(전처리완료)/모델링용ver4/타자(모델링용)_test_ver4.csv')\n",
    "\n",
    "pitcher_ver4_onehot_train = pd.read_csv('선수데이터(전처리완료)/모델링용ver4/투수(모델링용_원핫인코딩)_train_ver4.csv')\n",
    "pitcher_ver4_onehot_test = pd.read_csv('선수데이터(전처리완료)/모델링용ver4/투수(모델링용_원핫인코딩)_test_ver4.csv')\n",
    "pitcher_ver4_train = pd.read_csv('선수데이터(전처리완료)/모델링용ver4/투수(모델링용)_train_ver4.csv')\n",
    "pitcher_ver4_test = pd.read_csv('선수데이터(전처리완료)/모델링용ver4/투수(모델링용)_test_ver4.csv')\n",
    "\n",
    "print(hitter_ver4_onehot_train.shape, hitter_ver4_onehot_test.shape, hitter_ver4_train.shape, hitter_ver4_test.shape)\n",
    "print(pitcher_ver4_onehot_train.shape, pitcher_ver4_onehot_test.shape, pitcher_ver4_train.shape, pitcher_ver4_test.shape)"
   ]
  },
  {
   "cell_type": "code",
   "execution_count": 4,
   "metadata": {},
   "outputs": [
    {
     "name": "stdout",
     "output_type": "stream",
     "text": [
      "{'3차FA여부', '2차FA여부', '1차FA여부'}\n",
      "{'2차FA여부', '1차FA여부'}\n"
     ]
    }
   ],
   "source": [
    "# 차이나는 열을 확인 --> 1~3차, 1~2차 FA여부가 나오면 정답\n",
    "print(set(hitter_ver4_onehot_train.columns) - set(hitter_ver3_onehot_train.columns))\n",
    "print(set(pitcher_ver4_onehot_train.columns) - set(pitcher_ver3_onehot_train.columns))"
   ]
  },
  {
   "cell_type": "code",
   "execution_count": 5,
   "metadata": {},
   "outputs": [
    {
     "name": "stdout",
     "output_type": "stream",
     "text": [
      "(1813, 88) (229, 88) (1813, 70) (229, 70)\n",
      "(1701, 83) (239, 83) (1701, 73) (239, 73)\n"
     ]
    }
   ],
   "source": [
    "# VER3에서 FA가 아닌 선수들 선별 \n",
    "\n",
    "def filter_nonfa(fa_dataframe, nonfa_dataframe):\n",
    "    \n",
    "    fa_IDs = list(set(fa_dataframe['ID']))\n",
    "    dataframe_final = nonfa_dataframe[~nonfa_dataframe['ID'].isin(fa_IDs)].reset_index(drop=True)\n",
    "    \n",
    "    return dataframe_final\n",
    "\n",
    "\n",
    "hitter_ver3_onehot_train = filter_nonfa(hitter_ver4_onehot_train, hitter_ver3_onehot_train)\n",
    "hitter_ver3_onehot_test = filter_nonfa(hitter_ver4_onehot_test, hitter_ver3_onehot_test)\n",
    "hitter_ver3_train = filter_nonfa(hitter_ver4_train, hitter_ver3_train)\n",
    "hitter_ver3_test = filter_nonfa(hitter_ver4_test, hitter_ver3_test)\n",
    "\n",
    "pitcher_ver3_onehot_train = filter_nonfa(pitcher_ver4_onehot_train, pitcher_ver3_onehot_train)\n",
    "pitcher_ver3_onehot_test = filter_nonfa(pitcher_ver4_onehot_test, pitcher_ver3_onehot_test)\n",
    "pitcher_ver3_train = filter_nonfa(pitcher_ver4_train, pitcher_ver3_train)\n",
    "pitcher_ver3_test = filter_nonfa(pitcher_ver4_test, pitcher_ver3_test)\n",
    "\n",
    "print(hitter_ver3_onehot_train.shape, hitter_ver3_onehot_test.shape, hitter_ver3_train.shape, hitter_ver3_test.shape)\n",
    "print(pitcher_ver3_onehot_train.shape, pitcher_ver3_onehot_test.shape, pitcher_ver3_train.shape, pitcher_ver3_test.shape)"
   ]
  },
  {
   "cell_type": "code",
   "execution_count": 6,
   "metadata": {},
   "outputs": [
    {
     "name": "stdout",
     "output_type": "stream",
     "text": [
      "(1813, 91) (229, 91) (1813, 73) (229, 73)\n",
      "(1701, 85) (239, 85) (1701, 75) (239, 75)\n"
     ]
    }
   ],
   "source": [
    "# VER3에서 1차FA여부, 2차FA여부, 3차FA여부 변수 생성\n",
    "def make_fa_variable(dataframe, player_type):\n",
    "    \n",
    "    if player_type == 'hitter':\n",
    "        dataframe[['1차FA여부', '2차FA여부', '3차FA여부']] = 0\n",
    "    elif player_type == 'pitcher':\n",
    "        dataframe[['1차FA여부', '2차FA여부']] = 0\n",
    "        \n",
    "    return dataframe\n",
    "\n",
    "hitter_ver3_onehot_train = make_fa_variable(hitter_ver3_onehot_train, 'hitter')\n",
    "hitter_ver3_onehot_test = make_fa_variable(hitter_ver3_onehot_test, 'hitter')\n",
    "hitter_ver3_train = make_fa_variable(hitter_ver3_train, 'hitter')\n",
    "hitter_ver3_test = make_fa_variable(hitter_ver3_test, 'hitter')\n",
    "\n",
    "pitcher_ver3_onehot_train = make_fa_variable(pitcher_ver3_onehot_train, 'pitcher')\n",
    "pitcher_ver3_onehot_test = make_fa_variable(pitcher_ver3_onehot_test, 'pitcher')\n",
    "pitcher_ver3_train = make_fa_variable(pitcher_ver3_train, 'pitcher')\n",
    "pitcher_ver3_test = make_fa_variable(pitcher_ver3_test, 'pitcher')\n",
    "\n",
    "print(hitter_ver3_onehot_train.shape, hitter_ver3_onehot_test.shape, hitter_ver3_train.shape, hitter_ver3_test.shape)\n",
    "print(pitcher_ver3_onehot_train.shape, pitcher_ver3_onehot_test.shape, pitcher_ver3_train.shape, pitcher_ver3_test.shape)"
   ]
  },
  {
   "cell_type": "code",
   "execution_count": 7,
   "metadata": {},
   "outputs": [
    {
     "name": "stdout",
     "output_type": "stream",
     "text": [
      "(3033, 91) (270, 91) (3033, 73) (270, 73)\n",
      "(2345, 85) (258, 85) (2345, 75) (258, 75)\n"
     ]
    }
   ],
   "source": [
    "# ver6 = VER3 + VER4\n",
    "\n",
    "hitter_ver6_onehot_train = pd.concat([hitter_ver3_onehot_train, hitter_ver4_onehot_train]).reset_index(drop=True)\n",
    "hitter_ver6_onehot_test = pd.concat([hitter_ver3_onehot_test, hitter_ver4_onehot_test]).reset_index(drop=True)\n",
    "hitter_ver6_train = pd.concat([hitter_ver3_train, hitter_ver4_train]).reset_index(drop=True)\n",
    "hitter_ver6_test = pd.concat([hitter_ver3_test, hitter_ver4_test]).reset_index(drop=True)\n",
    "\n",
    "pitcher_ver6_onehot_train = pd.concat([pitcher_ver3_onehot_train, pitcher_ver4_onehot_train]).reset_index(drop=True)\n",
    "pitcher_ver6_onehot_test = pd.concat([pitcher_ver3_onehot_test, pitcher_ver4_onehot_test]).reset_index(drop=True)\n",
    "pitcher_ver6_train = pd.concat([pitcher_ver3_train, pitcher_ver4_train]).reset_index(drop=True)\n",
    "pitcher_ver6_test = pd.concat([pitcher_ver3_test, pitcher_ver4_test]).reset_index(drop=True)\n",
    "\n",
    "print(hitter_ver6_onehot_train.shape, hitter_ver6_onehot_test.shape, hitter_ver6_train.shape, hitter_ver6_test.shape)\n",
    "print(pitcher_ver6_onehot_train.shape, pitcher_ver6_onehot_test.shape, pitcher_ver6_train.shape, pitcher_ver6_test.shape)"
   ]
  },
  {
   "cell_type": "markdown",
   "metadata": {},
   "source": [
    "# 저장"
   ]
  },
  {
   "cell_type": "code",
   "execution_count": 8,
   "metadata": {},
   "outputs": [],
   "source": [
    "hitter_ver6_onehot_train.to_csv('선수데이터(전처리완료)/모델링용ver6/타자(모델링용_원핫인코딩)_train_ver6.csv', index=False, encoding='utf-8-sig')\n",
    "hitter_ver6_onehot_test.to_csv('선수데이터(전처리완료)/모델링용ver6/타자(모델링용_원핫인코딩)_test_ver6.csv', index=False, encoding='utf-8-sig')\n",
    "hitter_ver6_train.to_csv('선수데이터(전처리완료)/모델링용ver6/타자(모델링용)_train_ver6.csv', index=False, encoding='utf-8-sig')\n",
    "hitter_ver6_test.to_csv('선수데이터(전처리완료)/모델링용ver6/타자(모델링용)_test_ver6.csv', index=False, encoding='utf-8-sig')\n",
    "\n",
    "pitcher_ver6_onehot_train.to_csv('선수데이터(전처리완료)/모델링용ver6/투수(모델링용_원핫인코딩)_train_ver6.csv', index=False, encoding='utf-8-sig')\n",
    "pitcher_ver6_onehot_test.to_csv('선수데이터(전처리완료)/모델링용ver6/투수(모델링용_원핫인코딩)_test_ver6.csv', index=False, encoding='utf-8-sig')\n",
    "pitcher_ver6_train.to_csv('선수데이터(전처리완료)/모델링용ver6/투수(모델링용)_train_ver6.csv', index=False, encoding='utf-8-sig')\n",
    "pitcher_ver6_test.to_csv('선수데이터(전처리완료)/모델링용ver6/투수(모델링용)_test_ver6.csv', index=False, encoding='utf-8-sig')"
   ]
  }
 ],
 "metadata": {
  "kernelspec": {
   "display_name": "Python 3",
   "language": "python",
   "name": "python3"
  },
  "language_info": {
   "codemirror_mode": {
    "name": "ipython",
    "version": 3
   },
   "file_extension": ".py",
   "mimetype": "text/x-python",
   "name": "python",
   "nbconvert_exporter": "python",
   "pygments_lexer": "ipython3",
   "version": "3.8.5"
  }
 },
 "nbformat": 4,
 "nbformat_minor": 4
}
