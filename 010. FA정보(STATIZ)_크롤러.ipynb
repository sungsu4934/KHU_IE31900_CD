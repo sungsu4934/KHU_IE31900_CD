{
 "cells": [
  {
   "cell_type": "markdown",
   "metadata": {},
   "source": [
    "# Load Package"
   ]
  },
  {
   "cell_type": "code",
   "execution_count": 15,
   "metadata": {},
   "outputs": [],
   "source": [
    "from lxml.html import fromstring\n",
    "\n",
    "import pandas as pd\n",
    "import numpy as np\n",
    "\n",
    "import requests\n",
    "import time\n",
    "import os"
   ]
  },
  {
   "cell_type": "markdown",
   "metadata": {},
   "source": [
    "# Crawling"
   ]
  },
  {
   "cell_type": "code",
   "execution_count": 119,
   "metadata": {},
   "outputs": [
    {
     "name": "stdout",
     "output_type": "stream",
     "text": [
      "== 2020년도 완료 == 경과시간: 0초\n",
      "== 2019년도 완료 == 경과시간: 3초\n",
      "== 2018년도 완료 == 경과시간: 5초\n",
      "== 2017년도 완료 == 경과시간: 8초\n",
      "== 2016년도 완료 == 경과시간: 11초\n",
      "== 2015년도 완료 == 경과시간: 13초\n",
      "== 2014년도 완료 == 경과시간: 16초\n",
      "== 2013년도 완료 == 경과시간: 19초\n",
      "== 2012년도 완료 == 경과시간: 21초\n",
      "== 2011년도 완료 == 경과시간: 23초\n",
      "== 2010년도 완료 == 경과시간: 25초\n",
      "== 2009년도 완료 == 경과시간: 28초\n",
      "== 2008년도 완료 == 경과시간: 31초\n",
      "== 2007년도 완료 == 경과시간: 34초\n",
      "== 2006년도 완료 == 경과시간: 36초\n",
      "== 2005년도 완료 == 경과시간: 38초\n",
      "== 2004년도 완료 == 경과시간: 41초\n",
      "== 2003년도 완료 == 경과시간: 43초\n",
      "== 2002년도 완료 == 경과시간: 45초\n"
     ]
    }
   ],
   "source": [
    "t1 = time.time()\n",
    "\n",
    "for YEAR in list(range(2020,2001,-1)):\n",
    "\n",
    "    # url 불러오기\n",
    "    url = f'http://www.statiz.co.kr/transaction.php?opt=0&sopt={YEAR}&te='\n",
    "    res = requests.get(url)\n",
    "    parser = fromstring(res.text)\n",
    "    \n",
    "    # 필요한 element의 위치를 정의\n",
    "    INDEXs = list(range(2, len(parser.xpath(f'/html/body/div[1]/div[1]/div/section[2]/div/div[2]/div[2]/div[1]/div/div[2]/table/tr'))+1))\n",
    "\n",
    "    # 정보수집\n",
    "    names = [parser.xpath(f'/html/body/div[1]/div[1]/div/section[2]/div/div[2]/div[2]/div[1]/div/div[2]/table/tr[{INDEX}]/td[2]')[0].text_content() for INDEX in INDEXs]\n",
    "    birthdays = [parser.xpath(f'/html/body/div[1]/div[1]/div/section[2]/div/div[2]/div[2]/div[1]/div/div[2]/table/tr[{INDEX}]/td[2]/a')[0].get('href').split('birth=')[1] for INDEX in INDEXs]\n",
    "    before_teams = [parser.xpath(f'/html/body/div[1]/div[1]/div/section[2]/div/div[2]/div[2]/div[1]/div/div[2]/table/tr[{INDEX}]/td[3]')[0].text_content() for INDEX in INDEXs]\n",
    "    now_teams = [parser.xpath(f'/html/body/div[1]/div[1]/div/section[2]/div/div[2]/div[2]/div[1]/div/div[2]/table/tr[{INDEX}]/td[4]')[0].text_content() for INDEX in INDEXs]\n",
    "    fa_years = [parser.xpath(f'/html/body/div[1]/div[1]/div/section[2]/div/div[2]/div[2]/div[1]/div/div[2]/table/tr[{INDEX}]/td[6]')[0].text_content() for INDEX in INDEXs]\n",
    "    fa_all_moneys = [parser.xpath(f'/html/body/div[1]/div[1]/div/section[2]/div/div[2]/div[2]/div[1]/div/div[2]/table/tr[{INDEX}]/td[7]')[0].text_content() for INDEX in INDEXs]\n",
    "    fa_average_moneys = [parser.xpath(f'/html/body/div[1]/div[1]/div/section[2]/div/div[2]/div[2]/div[1]/div/div[2]/table/tr[{INDEX}]/td[8]')[0].text_content() for INDEX in INDEXs]\n",
    "\n",
    "    # 데이터프레임 생성\n",
    "    df = pd.DataFrame({'선수명':names,\n",
    "                       '생년월일':birthdays,\n",
    "                       '연도':[YEAR] * len(names),\n",
    "                       '이전팀':before_teams,\n",
    "                       '계약팀':now_teams,\n",
    "                       '계약기간':fa_years,\n",
    "                       '계약총액':fa_all_moneys,\n",
    "                       '계약평균액':fa_average_moneys})\n",
    "\n",
    "    if YEAR == 2020:\n",
    "        df_final = df.copy()\n",
    "        \n",
    "    else:\n",
    "        df_final = pd.concat([df_final, df]).reset_index(drop=True)\n",
    "        \n",
    "    print(f'== {YEAR}년도 완료 == 경과시간: {round(time.time()-t1)}초')\n",
    "    time.sleep(2)"
   ]
  },
  {
   "cell_type": "code",
   "execution_count": 122,
   "metadata": {},
   "outputs": [],
   "source": [
    "df_final.to_csv('FA정보데이터/FA_정보.csv', index=False, encoding='utf-8-sig')"
   ]
  }
 ],
 "metadata": {
  "kernelspec": {
   "display_name": "Python 3",
   "language": "python",
   "name": "python3"
  },
  "language_info": {
   "codemirror_mode": {
    "name": "ipython",
    "version": 3
   },
   "file_extension": ".py",
   "mimetype": "text/x-python",
   "name": "python",
   "nbconvert_exporter": "python",
   "pygments_lexer": "ipython3",
   "version": "3.8.5"
  }
 },
 "nbformat": 4,
 "nbformat_minor": 4
}
