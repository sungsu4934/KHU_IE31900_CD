{
 "cells": [
  {
   "cell_type": "code",
   "execution_count": 1,
   "metadata": {},
   "outputs": [],
   "source": [
    "import pandas as pd\n",
    "import numpy as np\n",
    "\n",
    "'''\n",
    "누적 아이디어1 : 정규화할 때처럼 <= YEAR를 걸어 데이터프레임을 끊어줌. 선수 ID로 GROUP BY & SUM\n",
    "누적 아이디어2 : 선수 ID로 중복 제거한 비교용 데이터프레임 생성, ID를 가져와서 검색해 선수별 데이터프레임 생성, 누적 minmax합 계산\n",
    "'''"
   ]
  },
  {
   "cell_type": "markdown",
   "metadata": {},
   "source": [
    "### 타자"
   ]
  },
  {
   "cell_type": "code",
   "execution_count": null,
   "metadata": {},
   "outputs": [],
   "source": [
    "#CSV파일 불러오기\n",
    "df = pd.read_csv('뉴스데이터/뉴스데이터_타자_정규화.csv', engine = 'python', encoding = 'CP949')\n",
    "\n",
    "#중복제거한 검색용 데이터프레임\n",
    "search = df.iloc[:,0].drop_duplicates()\n",
    "result = pd.DataFrame()\n",
    "\n",
    "for ID in search:\n",
    "    ID_num = []\n",
    "    names = []\n",
    "    year = []\n",
    "    min_max = []\n",
    "    \n",
    "    #df 내에서 동일한 ID인 선수 추출\n",
    "    for i in list(np.arange(0,len(df))):\n",
    "        if df.iloc[i,0] == ID:\n",
    "            ID_num.append(df.iloc[i,0]) #ID 정보\n",
    "            year.append(df.iloc[i,2]) #연도 정보\n",
    "            min_max.append(df.iloc[i,6]) #Min-Max값\n",
    "\n",
    "        #한 선수의 연도별 정보를 한데 묶은 계산용 데이터프레임 cal\n",
    "        cal = pd.DataFrame({'ID': ID_num, '연도':year, 'Min-Max':min_max})\n",
    "        cal['Min-Max 누적'] = np.cumsum(cal['Min-Max']) #누적 Min-Max값 계산\n",
    "        \n",
    "    result = pd.concat([result, cal])\n",
    "\n",
    "#기존 df와 ID, 연도 값으로 merge\n",
    "merge = pd.merge(df,result,on=['ID', '연도'])\n",
    "\n",
    "#엑셀파일로 저장\n",
    "merge.to_csv('뉴스데이터/뉴스데이터_타자_정규화+누적.csv', index=False)"
   ]
  },
  {
   "cell_type": "markdown",
   "metadata": {},
   "source": [
    "### 투수"
   ]
  },
  {
   "cell_type": "code",
   "execution_count": 35,
   "metadata": {},
   "outputs": [],
   "source": [
    "#CSV파일 불러오기\n",
    "df = pd.read_csv('뉴스데이터/뉴스데이터_투수_정규화.csv', engine = 'python', encoding = 'CP949')\n",
    "\n",
    "#중복제거한 검색용 데이터프레임\n",
    "search = df.iloc[:,0].drop_duplicates()\n",
    "result = pd.DataFrame()\n",
    "\n",
    "for ID in search:\n",
    "    ID_num = []\n",
    "    names = []\n",
    "    year = []\n",
    "    min_max = []\n",
    "    \n",
    "    #df 내에서 동일한 ID인 선수 추출\n",
    "    for i in list(np.arange(0,len(df))):\n",
    "        if df.iloc[i,0] == ID:\n",
    "            ID_num.append(df.iloc[i,0]) #ID 정보\n",
    "            year.append(df.iloc[i,2]) #연도 정보\n",
    "            min_max.append(df.iloc[i,6]) #Min-Max값\n",
    "\n",
    "        #한 선수의 연도별 정보를 한데 묶은 계산용 데이터프레임 cal\n",
    "        cal = pd.DataFrame({'ID': ID_num, '연도':year, 'Min-Max':min_max})\n",
    "        cal['Min-Max 누적'] = np.cumsum(cal['Min-Max']) #누적 Min-Max값 계산\n",
    "        \n",
    "    result = pd.concat([result, cal])\n",
    "\n",
    "#기존 df와 ID, 연도 값으로 merge\n",
    "merge = pd.merge(df,result,on=['ID', '연도'])\n",
    "\n",
    "#엑셀파일로 저장\n",
    "merge.to_csv('뉴스데이터/뉴스데이터_투수_정규화+누적.csv', index=False)"
   ]
  }
 ],
 "metadata": {
  "kernelspec": {
   "display_name": "Python 3",
   "language": "python",
   "name": "python3"
  },
  "language_info": {
   "codemirror_mode": {
    "name": "ipython",
    "version": 3
   },
   "file_extension": ".py",
   "mimetype": "text/x-python",
   "name": "python",
   "nbconvert_exporter": "python",
   "pygments_lexer": "ipython3",
   "version": "3.8.5"
  }
 },
 "nbformat": 4,
 "nbformat_minor": 5
}
