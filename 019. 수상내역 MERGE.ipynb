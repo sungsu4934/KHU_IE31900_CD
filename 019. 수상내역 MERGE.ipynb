{
 "cells": [
  {
   "cell_type": "code",
   "execution_count": 1,
   "metadata": {},
   "outputs": [],
   "source": [
    "import pandas as pd"
   ]
  },
  {
   "cell_type": "markdown",
   "metadata": {},
   "source": [
    "# 수상횟수 종합"
   ]
  },
  {
   "cell_type": "code",
   "execution_count": 2,
   "metadata": {
    "scrolled": true
   },
   "outputs": [],
   "source": [
    "df1 = pd.read_excel('수상내역데이터/수상내역.xlsx', sheet_name=0)[['연도','수상자','생년월일']] # 정규시즌MVP\n",
    "df2 = pd.read_excel('수상내역데이터/수상내역.xlsx', sheet_name=1)[['연도','수상자','생년월일']] # 포스트시즌MVP\n",
    "df3 = pd.read_excel('수상내역데이터/수상내역.xlsx', sheet_name=2)[['연도','수상자','생년월일']] # 신인왕\n",
    "df4 = pd.read_excel('수상내역데이터/수상내역.xlsx', sheet_name=3)[['연도','수상자','생년월일']] # 골든글러브"
   ]
  },
  {
   "cell_type": "code",
   "execution_count": 3,
   "metadata": {},
   "outputs": [
    {
     "data": {
      "text/html": [
       "<div>\n",
       "<style scoped>\n",
       "    .dataframe tbody tr th:only-of-type {\n",
       "        vertical-align: middle;\n",
       "    }\n",
       "\n",
       "    .dataframe tbody tr th {\n",
       "        vertical-align: top;\n",
       "    }\n",
       "\n",
       "    .dataframe thead th {\n",
       "        text-align: right;\n",
       "    }\n",
       "</style>\n",
       "<table border=\"1\" class=\"dataframe\">\n",
       "  <thead>\n",
       "    <tr style=\"text-align: right;\">\n",
       "      <th></th>\n",
       "      <th>연도</th>\n",
       "      <th>수상자</th>\n",
       "      <th>생년월일</th>\n",
       "      <th>수상횟수</th>\n",
       "    </tr>\n",
       "  </thead>\n",
       "  <tbody>\n",
       "    <tr>\n",
       "      <th>0</th>\n",
       "      <td>2002</td>\n",
       "      <td>마해영</td>\n",
       "      <td>1970-08-14</td>\n",
       "      <td>2</td>\n",
       "    </tr>\n",
       "    <tr>\n",
       "      <th>1</th>\n",
       "      <td>2002</td>\n",
       "      <td>이승엽</td>\n",
       "      <td>1976-08-18</td>\n",
       "      <td>2</td>\n",
       "    </tr>\n",
       "    <tr>\n",
       "      <th>2</th>\n",
       "      <td>2002</td>\n",
       "      <td>김종국</td>\n",
       "      <td>1973-09-14</td>\n",
       "      <td>1</td>\n",
       "    </tr>\n",
       "    <tr>\n",
       "      <th>3</th>\n",
       "      <td>2002</td>\n",
       "      <td>김한수</td>\n",
       "      <td>1971-10-30</td>\n",
       "      <td>1</td>\n",
       "    </tr>\n",
       "    <tr>\n",
       "      <th>4</th>\n",
       "      <td>2002</td>\n",
       "      <td>박용택</td>\n",
       "      <td>1979-04-21</td>\n",
       "      <td>1</td>\n",
       "    </tr>\n",
       "    <tr>\n",
       "      <th>...</th>\n",
       "      <td>...</td>\n",
       "      <td>...</td>\n",
       "      <td>...</td>\n",
       "      <td>...</td>\n",
       "    </tr>\n",
       "    <tr>\n",
       "      <th>246</th>\n",
       "      <td>2020</td>\n",
       "      <td>오재원</td>\n",
       "      <td>1985-02-09</td>\n",
       "      <td>1</td>\n",
       "    </tr>\n",
       "    <tr>\n",
       "      <th>247</th>\n",
       "      <td>2020</td>\n",
       "      <td>이정후</td>\n",
       "      <td>1998-08-20</td>\n",
       "      <td>1</td>\n",
       "    </tr>\n",
       "    <tr>\n",
       "      <th>248</th>\n",
       "      <td>2020</td>\n",
       "      <td>최형우</td>\n",
       "      <td>1983-12-16</td>\n",
       "      <td>1</td>\n",
       "    </tr>\n",
       "    <tr>\n",
       "      <th>249</th>\n",
       "      <td>2020</td>\n",
       "      <td>플렉센</td>\n",
       "      <td>1994-07-01</td>\n",
       "      <td>1</td>\n",
       "    </tr>\n",
       "    <tr>\n",
       "      <th>250</th>\n",
       "      <td>2020</td>\n",
       "      <td>황재균</td>\n",
       "      <td>1987-07-28</td>\n",
       "      <td>1</td>\n",
       "    </tr>\n",
       "  </tbody>\n",
       "</table>\n",
       "<p>251 rows × 4 columns</p>\n",
       "</div>"
      ],
      "text/plain": [
       "       연도  수상자       생년월일  수상횟수\n",
       "0    2002  마해영 1970-08-14     2\n",
       "1    2002  이승엽 1976-08-18     2\n",
       "2    2002  김종국 1973-09-14     1\n",
       "3    2002  김한수 1971-10-30     1\n",
       "4    2002  박용택 1979-04-21     1\n",
       "..    ...  ...        ...   ...\n",
       "246  2020  오재원 1985-02-09     1\n",
       "247  2020  이정후 1998-08-20     1\n",
       "248  2020  최형우 1983-12-16     1\n",
       "249  2020  플렉센 1994-07-01     1\n",
       "250  2020  황재균 1987-07-28     1\n",
       "\n",
       "[251 rows x 4 columns]"
      ]
     },
     "execution_count": 3,
     "metadata": {},
     "output_type": "execute_result"
    }
   ],
   "source": [
    "for YEAR in range(2002, 2021):\n",
    "    \n",
    "    # 연도별 데이터 찾아오기\n",
    "    df1_year = df1[df1['연도']==YEAR]\n",
    "    df2_year = df2[df2['연도']==YEAR]\n",
    "    df3_year = df3[df3['연도']==YEAR]\n",
    "    df4_year = df4[df4['연도']==YEAR]\n",
    "    \n",
    "    # 연도별 개수 파악\n",
    "    df_year = pd.concat([df1_year, df2_year, df3_year, df4_year]).reset_index(drop=True)\n",
    "    df_year = df_year.value_counts().reset_index().rename(columns = {0:'수상횟수'})\n",
    "\n",
    "    # concat\n",
    "    if YEAR == 2002:\n",
    "        df_final = df_year.copy()\n",
    "    else:\n",
    "        df_final = pd.concat([df_final, df_year]).reset_index(drop=True)\n",
    "        \n",
    "df_final"
   ]
  },
  {
   "cell_type": "code",
   "execution_count": 4,
   "metadata": {},
   "outputs": [
    {
     "data": {
      "text/html": [
       "<div>\n",
       "<style scoped>\n",
       "    .dataframe tbody tr th:only-of-type {\n",
       "        vertical-align: middle;\n",
       "    }\n",
       "\n",
       "    .dataframe tbody tr th {\n",
       "        vertical-align: top;\n",
       "    }\n",
       "\n",
       "    .dataframe thead th {\n",
       "        text-align: right;\n",
       "    }\n",
       "</style>\n",
       "<table border=\"1\" class=\"dataframe\">\n",
       "  <thead>\n",
       "    <tr style=\"text-align: right;\">\n",
       "      <th></th>\n",
       "      <th>연도</th>\n",
       "      <th>선수명</th>\n",
       "      <th>생년월일</th>\n",
       "      <th>수상횟수</th>\n",
       "    </tr>\n",
       "  </thead>\n",
       "  <tbody>\n",
       "    <tr>\n",
       "      <th>0</th>\n",
       "      <td>2002</td>\n",
       "      <td>마해영</td>\n",
       "      <td>1970-08-14</td>\n",
       "      <td>2</td>\n",
       "    </tr>\n",
       "    <tr>\n",
       "      <th>1</th>\n",
       "      <td>2002</td>\n",
       "      <td>이승엽</td>\n",
       "      <td>1976-08-18</td>\n",
       "      <td>2</td>\n",
       "    </tr>\n",
       "    <tr>\n",
       "      <th>2</th>\n",
       "      <td>2002</td>\n",
       "      <td>김종국</td>\n",
       "      <td>1973-09-14</td>\n",
       "      <td>1</td>\n",
       "    </tr>\n",
       "    <tr>\n",
       "      <th>3</th>\n",
       "      <td>2002</td>\n",
       "      <td>김한수</td>\n",
       "      <td>1971-10-30</td>\n",
       "      <td>1</td>\n",
       "    </tr>\n",
       "    <tr>\n",
       "      <th>4</th>\n",
       "      <td>2002</td>\n",
       "      <td>박용택</td>\n",
       "      <td>1979-04-21</td>\n",
       "      <td>1</td>\n",
       "    </tr>\n",
       "    <tr>\n",
       "      <th>...</th>\n",
       "      <td>...</td>\n",
       "      <td>...</td>\n",
       "      <td>...</td>\n",
       "      <td>...</td>\n",
       "    </tr>\n",
       "    <tr>\n",
       "      <th>220</th>\n",
       "      <td>2020</td>\n",
       "      <td>소형준</td>\n",
       "      <td>2001-09-16</td>\n",
       "      <td>1</td>\n",
       "    </tr>\n",
       "    <tr>\n",
       "      <th>221</th>\n",
       "      <td>2020</td>\n",
       "      <td>오재원</td>\n",
       "      <td>1985-02-09</td>\n",
       "      <td>1</td>\n",
       "    </tr>\n",
       "    <tr>\n",
       "      <th>222</th>\n",
       "      <td>2020</td>\n",
       "      <td>이정후</td>\n",
       "      <td>1998-08-20</td>\n",
       "      <td>1</td>\n",
       "    </tr>\n",
       "    <tr>\n",
       "      <th>223</th>\n",
       "      <td>2020</td>\n",
       "      <td>최형우</td>\n",
       "      <td>1983-12-16</td>\n",
       "      <td>1</td>\n",
       "    </tr>\n",
       "    <tr>\n",
       "      <th>224</th>\n",
       "      <td>2020</td>\n",
       "      <td>황재균</td>\n",
       "      <td>1987-07-28</td>\n",
       "      <td>1</td>\n",
       "    </tr>\n",
       "  </tbody>\n",
       "</table>\n",
       "<p>225 rows × 4 columns</p>\n",
       "</div>"
      ],
      "text/plain": [
       "       연도  선수명        생년월일  수상횟수\n",
       "0    2002  마해영  1970-08-14     2\n",
       "1    2002  이승엽  1976-08-18     2\n",
       "2    2002  김종국  1973-09-14     1\n",
       "3    2002  김한수  1971-10-30     1\n",
       "4    2002  박용택  1979-04-21     1\n",
       "..    ...  ...         ...   ...\n",
       "220  2020  소형준  2001-09-16     1\n",
       "221  2020  오재원  1985-02-09     1\n",
       "222  2020  이정후  1998-08-20     1\n",
       "223  2020  최형우  1983-12-16     1\n",
       "224  2020  황재균  1987-07-28     1\n",
       "\n",
       "[225 rows x 4 columns]"
      ]
     },
     "execution_count": 4,
     "metadata": {},
     "output_type": "execute_result"
    }
   ],
   "source": [
    "foreign_player = ['브리또', '로페즈', '브룸바', '데이비스', '서튼', '리오스', '가르시아', '나바로', '테임즈', \n",
    "                '밴헤켄', '니퍼트', '해커', '버나디나', '린드블럼', '로하스', '샌즈', '페르난데스', '알칸타라', '플렉센']\n",
    "\n",
    "df_final = df_final[~df_final['수상자'].isin(foreign_player)].reset_index(drop=True)\n",
    "df_final = df_final.rename(columns={'수상자':'선수명'})\n",
    "df_final['생년월일'] = df_final['생년월일'].astype('str')\n",
    "df_final"
   ]
  },
  {
   "cell_type": "markdown",
   "metadata": {},
   "source": [
    "# Merge"
   ]
  },
  {
   "cell_type": "code",
   "execution_count": 5,
   "metadata": {},
   "outputs": [
    {
     "data": {
      "text/plain": [
       "((4239, 66), (3557, 70))"
      ]
     },
     "execution_count": 5,
     "metadata": {},
     "output_type": "execute_result"
    }
   ],
   "source": [
    "# 데이터 불러오기\n",
    "hitter = pd.read_csv('선수데이터(전처리완료)/타자.csv')\n",
    "pitcher = pd.read_csv('선수데이터(전처리완료)/투수.csv')\n",
    "\n",
    "hitter.shape, pitcher.shape"
   ]
  },
  {
   "cell_type": "code",
   "execution_count": 6,
   "metadata": {},
   "outputs": [
    {
     "data": {
      "text/plain": [
       "((4239, 67), (3557, 71))"
      ]
     },
     "execution_count": 6,
     "metadata": {},
     "output_type": "execute_result"
    }
   ],
   "source": [
    "# merge\n",
    "hitter = pd.merge(hitter, df_final, on=['선수명', '생년월일', '연도'], how='left')\n",
    "pitcher = pd.merge(pitcher, df_final, on=['선수명', '생년월일', '연도'], how='left')\n",
    "\n",
    "hitter.shape, pitcher.shape"
   ]
  },
  {
   "cell_type": "code",
   "execution_count": 7,
   "metadata": {},
   "outputs": [
    {
     "data": {
      "text/plain": [
       "225"
      ]
     },
     "execution_count": 7,
     "metadata": {},
     "output_type": "execute_result"
    }
   ],
   "source": [
    "# 합쳐진 데이터의 개수로 잘 합쳐졌는지 검산\n",
    "hitter['수상횟수'].notnull().sum() + pitcher['수상횟수'].notnull().sum()"
   ]
  },
  {
   "cell_type": "code",
   "execution_count": 9,
   "metadata": {},
   "outputs": [],
   "source": [
    "# 다른값들은 수상횟수 0으로 채운다.\n",
    "hitter['수상횟수'] = hitter['수상횟수'].fillna(0)\n",
    "pitcher['수상횟수'] = pitcher['수상횟수'].fillna(0)"
   ]
  },
  {
   "cell_type": "code",
   "execution_count": 10,
   "metadata": {},
   "outputs": [],
   "source": [
    "hitter.to_csv('선수데이터(전처리완료)/타자.csv', index=False, encoding='utf-8-sig')\n",
    "pitcher.to_csv('선수데이터(전처리완료)/투수.csv', index=False, encoding='utf-8-sig')"
   ]
  }
 ],
 "metadata": {
  "kernelspec": {
   "display_name": "Python 3",
   "language": "python",
   "name": "python3"
  },
  "language_info": {
   "codemirror_mode": {
    "name": "ipython",
    "version": 3
   },
   "file_extension": ".py",
   "mimetype": "text/x-python",
   "name": "python",
   "nbconvert_exporter": "python",
   "pygments_lexer": "ipython3",
   "version": "3.8.5"
  }
 },
 "nbformat": 4,
 "nbformat_minor": 4
}
