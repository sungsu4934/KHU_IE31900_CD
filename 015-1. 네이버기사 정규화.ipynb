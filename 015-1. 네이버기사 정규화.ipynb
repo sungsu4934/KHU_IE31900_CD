{
 "cells": [
  {
   "cell_type": "code",
   "execution_count": 15,
   "metadata": {},
   "outputs": [],
   "source": [
    "import pandas as pd\n",
    "import numpy as np"
   ]
  },
  {
   "cell_type": "markdown",
   "metadata": {},
   "source": [
    "### 타자"
   ]
  },
  {
   "cell_type": "code",
   "execution_count": null,
   "metadata": {},
   "outputs": [],
   "source": [
    "#CSV파일 불러오기\n",
    "df = pd.read_csv('뉴스데이터/뉴스데이터_타자.csv', engine = 'python', encoding = 'utf-8-sig')\n",
    "\n",
    "result = pd.DataFrame()\n",
    "\n",
    "#연도마다 자르기\n",
    "for YEAR in list(np.arange(2002,2021)):\n",
    "    news = []\n",
    "    for i in list(np.arange(0,len(df))):\n",
    "        if df['연도'][i] == YEAR:\n",
    "            news.append(df['뉴스개수'][i])\n",
    "    cal = pd.DataFrame()\n",
    "    cal[['뉴스개수', 'min', 'max']] = [news, min(news), max(news)]\n",
    "    cal['Min-Max'] = (cal['뉴스개수']-cal['min']) / (cal['max']-cal['min'])\n",
    "    \n",
    "    #result에 cal 쌓기\n",
    "    result = pd.concat([result, cal])\n",
    "\n",
    "#엑셀파일로 저장\n",
    "result.to_csv('뉴스데이터/뉴스데이터_타자_정규화.csv', index=False)"
   ]
  },
  {
   "cell_type": "markdown",
   "metadata": {},
   "source": [
    "### 투수"
   ]
  },
  {
   "cell_type": "code",
   "execution_count": 16,
   "metadata": {
    "scrolled": true
   },
   "outputs": [],
   "source": [
    "#CSV파일 불러오기\n",
    "df = pd.read_csv('뉴스데이터/뉴스데이터_투수.csv', engine = 'python', encoding = 'utf-8-sig')\n",
    "\n",
    "result = pd.DataFrame()\n",
    "\n",
    "#연도마다 자르기\n",
    "for YEAR in list(np.arange(2002,2021)):\n",
    "    news = []\n",
    "    for i in list(np.arange(0,len(df))):\n",
    "        if df['연도'][i] == YEAR:\n",
    "            news.append(df['뉴스개수'][i])\n",
    "    cal = pd.DataFrame()\n",
    "    cal[['뉴스개수', 'min', 'max']] = [news, min(news), max(news)]\n",
    "    cal['Min-Max'] = (cal['뉴스개수']-cal['min']) / (cal['max']-cal['min'])\n",
    "    \n",
    "    #result에 cal 쌓기\n",
    "    result = pd.concat([result, cal])\n",
    "\n",
    "#엑셀파일로 저장\n",
    "result.to_csv('뉴스데이터/뉴스데이터_투수_정규화.csv', index=False)"
   ]
  }
 ],
 "metadata": {
  "kernelspec": {
   "display_name": "Python 3",
   "language": "python",
   "name": "python3"
  },
  "language_info": {
   "codemirror_mode": {
    "name": "ipython",
    "version": 3
   },
   "file_extension": ".py",
   "mimetype": "text/x-python",
   "name": "python",
   "nbconvert_exporter": "python",
   "pygments_lexer": "ipython3",
   "version": "3.8.5"
  }
 },
 "nbformat": 4,
 "nbformat_minor": 5
}
