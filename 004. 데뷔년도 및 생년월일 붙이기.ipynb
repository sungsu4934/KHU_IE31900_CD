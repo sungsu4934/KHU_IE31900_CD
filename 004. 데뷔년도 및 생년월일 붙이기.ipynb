{
 "cells": [
  {
   "cell_type": "code",
   "execution_count": 1,
   "metadata": {},
   "outputs": [],
   "source": [
    "from lxml.html import fromstring\n",
    "\n",
    "import pandas as pd\n",
    "import numpy as np\n",
    "\n",
    "import requests\n",
    "import time\n",
    "import os"
   ]
  },
  {
   "cell_type": "markdown",
   "metadata": {},
   "source": [
    "# 데뷔년도 및 생년월일 붙이기 (from KBO)"
   ]
  },
  {
   "cell_type": "code",
   "execution_count": 2,
   "metadata": {},
   "outputs": [],
   "source": [
    "pitcher = pd.read_csv('선수데이터(전처리완료)/투수.csv')\n",
    "hitter = pd.read_csv('선수데이터(전처리완료)/타자.csv')\n",
    "\n",
    "\n",
    "hitter_info = hitter[['ID', '선수명']].drop_duplicates().reset_index(drop=True)\n",
    "pitcher_info = pitcher[['ID', '선수명']].drop_duplicates().reset_index(drop=True)"
   ]
  },
  {
   "cell_type": "code",
   "execution_count": 3,
   "metadata": {},
   "outputs": [],
   "source": [
    "hitter_start_years = []\n",
    "hitter_birthdays = []\n",
    "pitcher_start_years = []\n",
    "pitcher_birthdays = []\n",
    "\n",
    "# 타자\n",
    "for ID in hitter_info['ID']:\n",
    "    url = 'https://www.koreabaseball.com/Record/Player/HitterDetail/Basic.aspx?playerId={}'.format(ID)\n",
    "    res = requests.get(url)\n",
    "    parser = fromstring(res.text)\n",
    "    \n",
    "    try:\n",
    "        start_year = parser.xpath('//*[@id=\"contents\"]/div[2]/div[1]/div[1]/ul/li[9]')[0].text_content().split(': ')[1][:2]\n",
    "    except:\n",
    "        print(f'{ID} Error')\n",
    "    \n",
    "    try:\n",
    "        birthday = parser.xpath('//*[@id=\"contents\"]/div[2]/div[1]/div[1]/ul/li[3]')[0].text_content().split(': ')[1]\n",
    "    except:\n",
    "        print(f'{ID} Error')\n",
    "        \n",
    "        \n",
    "    hitter_start_years.append(start_year)\n",
    "    hitter_birthdays.append(birthday)\n",
    "    \n",
    "\n",
    "# 투수\n",
    "for ID in pitcher_info['ID']:\n",
    "    url = 'https://www.koreabaseball.com/Record/Player/HitterDetail/Basic.aspx?playerId={}'.format(ID)\n",
    "    res = requests.get(url)\n",
    "    parser = fromstring(res.text)\n",
    "    \n",
    "    try:\n",
    "        start_year = parser.xpath('//*[@id=\"contents\"]/div[2]/div[1]/div[1]/ul/li[9]')[0].text_content().split(': ')[1][:2]\n",
    "    except:\n",
    "        print(f'{ID} Error')\n",
    "        \n",
    "    try:\n",
    "        birthday = parser.xpath('//*[@id=\"contents\"]/div[2]/div[1]/div[1]/ul/li[3]')[0].text_content().split(': ')[1]\n",
    "    except:\n",
    "        print(f'{ID} Error')\n",
    "        \n",
    "    pitcher_start_years.append(start_year)\n",
    "    pitcher_birthdays.append(birthday)\n",
    "    \n",
    "    \n",
    "hitter_info['데뷔년도'] = hitter_start_years\n",
    "hitter_info['생년월일'] = hitter_birthdays\n",
    "pitcher_info['데뷔년도'] = pitcher_start_years\n",
    "pitcher_info['생년월일'] = pitcher_birthdays"
   ]
  },
  {
   "cell_type": "code",
   "execution_count": 4,
   "metadata": {},
   "outputs": [],
   "source": [
    "# 긁어온 데이터 간단한 전처리\n",
    "def year_preprocessing(x):\n",
    "\n",
    "    if x in ['00', '01', '02', '03', '04', '05', '06', '07', '08', '09', '10', '11', '12', '13', '14', '15', '16', '17', '18', '19', '20']:\n",
    "        x = '20'+x\n",
    "\n",
    "    elif x in ['86', '87', '88', '89', '90', '91', '92', '93', '94', '95', '96', '97', '98', '99']:\n",
    "        x = '19'+x\n",
    "        \n",
    "    return x\n",
    "\n",
    "\n",
    "def birth_preprocessing(x):\n",
    "    \n",
    "    x = x.replace('년 ', '-').replace('월 ', '-').replace('일','')\n",
    "    \n",
    "    return x\n",
    "\n",
    "hitter_info['데뷔년도'] = hitter_info['데뷔년도'].apply(lambda x: year_preprocessing(x))\n",
    "pitcher_info['데뷔년도']= pitcher_info['데뷔년도'].apply(lambda x: year_preprocessing(x))\n",
    "hitter_info['생년월일'] = hitter_info['생년월일'].apply(lambda x: birth_preprocessing(x))\n",
    "pitcher_info['생년월일'] = pitcher_info['생년월일'].apply(lambda x: birth_preprocessing(x))"
   ]
  },
  {
   "cell_type": "code",
   "execution_count": 5,
   "metadata": {},
   "outputs": [],
   "source": [
    "hitter_final = pd.merge(hitter_info, hitter, on=['ID', '선수명'], how='right')\n",
    "pitcher_final = pd.merge(pitcher_info, pitcher, on=['ID', '선수명'], how='right')\n",
    "\n",
    "hitter_final.to_csv('선수데이터(전처리완료)/타자.csv', index=False, encoding='utf-8-sig')\n",
    "pitcher_final.to_csv('선수데이터(전처리완료)/투수.csv', index=False, encoding='utf-8-sig')"
   ]
  }
 ],
 "metadata": {
  "kernelspec": {
   "display_name": "Python 3",
   "language": "python",
   "name": "python3"
  },
  "language_info": {
   "codemirror_mode": {
    "name": "ipython",
    "version": 3
   },
   "file_extension": ".py",
   "mimetype": "text/x-python",
   "name": "python",
   "nbconvert_exporter": "python",
   "pygments_lexer": "ipython3",
   "version": "3.8.5"
  }
 },
 "nbformat": 4,
 "nbformat_minor": 4
}
